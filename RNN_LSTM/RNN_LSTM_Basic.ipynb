{
 "cells": [
  {
   "cell_type": "code",
   "execution_count": 8,
   "metadata": {},
   "outputs": [],
   "source": [
    "input = [1,2,3,4,5,6,7,8,9,10]\n",
    "output = [2,3,5,7,3,4,1,5,3,5]"
   ]
  },
  {
   "cell_type": "code",
   "execution_count": 9,
   "metadata": {},
   "outputs": [],
   "source": [
    "w = 0.0\n",
    "b = 0.0\n",
    "lr = 0.01"
   ]
  },
  {
   "cell_type": "code",
   "execution_count": 10,
   "metadata": {},
   "outputs": [
    {
     "name": "stdout",
     "output_type": "stream",
     "text": [
      "epoch 0 | loss : 124.72773620753793 | w: 0.9285033592423662 , b:0.26633886751228697\n",
      "epoch 10 | loss : 93.26882959331456 | w: 0.9184496559616766 , b:0.3730161523119951\n",
      "epoch 20 | loss : 92.72180197144206 | w: 0.9113925643610136 , b:0.4478971538219098\n",
      "epoch 30 | loss : 92.35125876427323 | w: 0.9064389129084385 , b:0.5004590876736721\n",
      "epoch 40 | loss : 92.09778055900276 | w: 0.9029617492123776 , b:0.537354386007405\n",
      "epoch 50 | loss : 91.92311634261566 | w: 0.9005209906154202 , b:0.5632526538103799\n",
      "epoch 60 | loss : 91.80211995187796 | w: 0.8988077257106447 , b:0.5814316713406804\n",
      "epoch 70 | loss : 91.71797976356322 | w: 0.8976051173750251 , b:0.5941922420815935\n",
      "epoch 80 | loss : 91.6593086541617 | w: 0.8967609590636806 , b:0.6031493909133405\n",
      "epoch 90 | loss : 91.61831734976604 | w: 0.8961684109883795 , b:0.6094367676163931\n",
      "epoch 100 | loss : 91.5896386664147 | w: 0.8957524780800323 , b:0.6138501257673684\n",
      "epoch 110 | loss : 91.56955464208045 | w: 0.895460518336246 , b:0.6169480362455688\n",
      "epoch 120 | loss : 91.55547987030698 | w: 0.8952555802554131 , b:0.6191225820228747\n",
      "epoch 130 | loss : 91.54561156364936 | w: 0.8951117261184324 , b:0.6206489816302467\n",
      "epoch 140 | loss : 91.53869019266288 | w: 0.895010749215349 , b:0.6217204218297138\n",
      "epoch 150 | loss : 91.53383455991934 | w: 0.8949398695370135 , b:0.6224725080432384\n",
      "epoch 160 | loss : 91.53042755492169 | w: 0.8948901162900089 , b:0.6230004270748886\n",
      "epoch 170 | loss : 91.52803671136485 | w: 0.8948551925199572 , b:0.6233709943037069\n",
      "epoch 180 | loss : 91.52635881287507 | w: 0.8948306781457593 , b:0.6236311100844261\n",
      "epoch 190 | loss : 91.52518119176567 | w: 0.8948134705378347 , b:0.623813695629281\n",
      "epoch 200 | loss : 91.5243546528662 | w: 0.8948013918378808 , b:0.6239418596380072\n",
      "epoch 210 | loss : 91.52377451191585 | w: 0.8947929133210981 , b:0.6240318230200801\n",
      "epoch 220 | loss : 91.52336730745397 | w: 0.8947869619151434 , b:0.6240949718728228\n",
      "epoch 230 | loss : 91.52308148410805 | w: 0.8947827843881366 , b:0.6241392985478643\n",
      "epoch 240 | loss : 91.52288085811594 | w: 0.894779852016857 , b:0.6241704131926256\n",
      "epoch 250 | loss : 91.52274003312445 | w: 0.8947777936695849 , b:0.6241922537912663\n",
      "epoch 260 | loss : 91.52264118364137 | w: 0.8947763488342991 , b:0.6242075845704742\n",
      "epoch 270 | loss : 91.52257179784648 | w: 0.8947753346473204 , b:0.6242183458501898\n",
      "epoch 280 | loss : 91.52252309349282 | w: 0.894774622749405 , b:0.6242258996176495\n",
      "epoch 290 | loss : 91.52248890611914 | w: 0.8947741230401273 , b:0.6242312019055134\n",
      "epoch 300 | loss : 91.52246490871808 | w: 0.8947737722744399 , b:0.6242349237908831\n",
      "epoch 310 | loss : 91.52244806402717 | w: 0.8947735260581433 , b:0.6242375363292934\n",
      "epoch 320 | loss : 91.52243624008943 | w: 0.8947733532291959 , b:0.6242393701732364\n",
      "epoch 330 | loss : 91.52242794040833 | w: 0.8947732319137282 , b:0.6242406574207641\n",
      "epoch 340 | loss : 91.52242211453817 | w: 0.8947731467576076 , b:0.6242415609906683\n",
      "epoch 350 | loss : 91.52241802513169 | w: 0.8947730869831617 , b:0.6242421952420887\n",
      "epoch 360 | loss : 91.5224151546166 | w: 0.8947730450251161 , b:0.6242426404482231\n",
      "epoch 370 | loss : 91.52241313968914 | w: 0.894773015573106 , b:0.6242429529560007\n",
      "epoch 380 | loss : 91.5224117253322 | w: 0.8947729948995766 , b:0.6242431723175585\n",
      "epoch 390 | loss : 91.52241073253927 | w: 0.8947729803880091 , b:0.6242433262961036\n",
      "epoch 400 | loss : 91.52241003565871 | w: 0.8947729702017665 , b:0.6242434343797288\n",
      "epoch 410 | loss : 91.52240954649078 | w: 0.8947729630516404 , b:0.6242435102478963\n",
      "epoch 420 | loss : 91.52240920312443 | w: 0.8947729580326843 , b:0.6242435635027612\n",
      "epoch 430 | loss : 91.52240896210206 | w: 0.8947729545096806 , b:0.624243600884455\n",
      "epoch 440 | loss : 91.52240879291898 | w: 0.8947729520367453 , b:0.6242436271241432\n",
      "epoch 450 | loss : 91.52240867416262 | w: 0.8947729503008942 , b:0.6242436455428169\n",
      "epoch 460 | loss : 91.52240859080291 | w: 0.8947729490824318 , b:0.6242436584716117\n",
      "epoch 470 | loss : 91.52240853228939 | w: 0.8947729482271448 , b:0.6242436675468436\n",
      "epoch 480 | loss : 91.52240849121642 | w: 0.8947729476267852 , b:0.6242436739171077\n",
      "epoch 490 | loss : 91.52240846238574 | w: 0.8947729472053689 , b:0.6242436783886477\n",
      "epoch 500 | loss : 91.52240844214829 | w: 0.8947729469095601 , b:0.6242436815273981\n",
      "epoch 510 | loss : 91.52240842794285 | w: 0.8947729467019202 , b:0.6242436837306118\n",
      "epoch 520 | loss : 91.52240841797152 | w: 0.8947729465561698 , b:0.6242436852771341\n",
      "epoch 530 | loss : 91.52240841097218 | w: 0.8947729464538616 , b:0.6242436863626996\n",
      "epoch 540 | loss : 91.52240840605911 | w: 0.8947729463820474 , b:0.6242436871247004\n",
      "epoch 550 | loss : 91.52240840261044 | w: 0.8947729463316384 , b:0.6242436876595787\n",
      "epoch 560 | loss : 91.52240840018965 | w: 0.8947729462962541 , b:0.6242436880350312\n",
      "epoch 570 | loss : 91.52240839849043 | w: 0.8947729462714169 , b:0.6242436882985757\n",
      "epoch 580 | loss : 91.52240839729771 | w: 0.8947729462539824 , b:0.6242436884835685\n",
      "epoch 590 | loss : 91.52240839646042 | w: 0.8947729462417443 , b:0.6242436886134225\n",
      "epoch 600 | loss : 91.52240839587273 | w: 0.894772946233154 , b:0.6242436887045721\n",
      "epoch 610 | loss : 91.52240839546022 | w: 0.8947729462271241 , b:0.6242436887685533\n",
      "epoch 620 | loss : 91.52240839517064 | w: 0.8947729462228916 , b:0.6242436888134645\n",
      "epoch 630 | loss : 91.5224083949674 | w: 0.8947729462199205 , b:0.6242436888449893\n",
      "epoch 640 | loss : 91.52240839482471 | w: 0.8947729462178351 , b:0.6242436888671173\n",
      "epoch 650 | loss : 91.5224083947246 | w: 0.8947729462163713 , b:0.6242436888826506\n",
      "epoch 660 | loss : 91.52240839465426 | w: 0.8947729462153435 , b:0.6242436888935534\n",
      "epoch 670 | loss : 91.52240839460495 | w: 0.8947729462146224 , b:0.6242436889012069\n",
      "epoch 680 | loss : 91.52240839457029 | w: 0.8947729462141161 , b:0.624243688906579\n",
      "epoch 690 | loss : 91.52240839454598 | w: 0.8947729462137607 , b:0.62424368891035\n",
      "epoch 700 | loss : 91.5224083945289 | w: 0.8947729462135111 , b:0.6242436889129971\n",
      "epoch 710 | loss : 91.52240839451692 | w: 0.894772946213336 , b:0.6242436889148547\n",
      "epoch 720 | loss : 91.52240839450849 | w: 0.8947729462132131 , b:0.6242436889161593\n",
      "epoch 730 | loss : 91.5224083945026 | w: 0.894772946213127 , b:0.6242436889170746\n",
      "epoch 740 | loss : 91.52240839449847 | w: 0.8947729462130664 , b:0.6242436889177171\n",
      "epoch 750 | loss : 91.52240839449554 | w: 0.8947729462130238 , b:0.6242436889181683\n",
      "epoch 760 | loss : 91.5224083944935 | w: 0.8947729462129939 , b:0.6242436889184844\n",
      "epoch 770 | loss : 91.52240839449207 | w: 0.8947729462129731 , b:0.6242436889187071\n",
      "epoch 780 | loss : 91.52240839449108 | w: 0.8947729462129584 , b:0.6242436889188633\n",
      "epoch 790 | loss : 91.52240839449036 | w: 0.8947729462129479 , b:0.6242436889189728\n",
      "epoch 800 | loss : 91.52240839448986 | w: 0.8947729462129408 , b:0.6242436889190492\n",
      "epoch 810 | loss : 91.52240839448956 | w: 0.8947729462129358 , b:0.6242436889191033\n",
      "epoch 820 | loss : 91.52240839448928 | w: 0.8947729462129322 , b:0.6242436889191414\n",
      "epoch 830 | loss : 91.52240839448912 | w: 0.8947729462129296 , b:0.6242436889191679\n",
      "epoch 840 | loss : 91.522408394489 | w: 0.8947729462129278 , b:0.6242436889191859\n",
      "epoch 850 | loss : 91.52240839448892 | w: 0.8947729462129268 , b:0.6242436889191996\n",
      "epoch 860 | loss : 91.52240839448885 | w: 0.8947729462129258 , b:0.6242436889192089\n",
      "epoch 870 | loss : 91.52240839448883 | w: 0.8947729462129251 , b:0.6242436889192153\n",
      "epoch 880 | loss : 91.52240839448876 | w: 0.8947729462129248 , b:0.6242436889192194\n",
      "epoch 890 | loss : 91.52240839448876 | w: 0.8947729462129245 , b:0.6242436889192224\n",
      "epoch 900 | loss : 91.52240839448875 | w: 0.8947729462129242 , b:0.6242436889192251\n",
      "epoch 910 | loss : 91.52240839448874 | w: 0.8947729462129241 , b:0.6242436889192255\n",
      "epoch 920 | loss : 91.52240839448874 | w: 0.8947729462129241 , b:0.6242436889192255\n",
      "epoch 930 | loss : 91.52240839448874 | w: 0.8947729462129241 , b:0.6242436889192255\n",
      "epoch 940 | loss : 91.52240839448874 | w: 0.8947729462129241 , b:0.6242436889192255\n",
      "epoch 950 | loss : 91.52240839448874 | w: 0.8947729462129241 , b:0.6242436889192255\n",
      "epoch 960 | loss : 91.52240839448874 | w: 0.8947729462129241 , b:0.6242436889192255\n",
      "epoch 970 | loss : 91.52240839448874 | w: 0.8947729462129241 , b:0.6242436889192255\n",
      "epoch 980 | loss : 91.52240839448874 | w: 0.8947729462129241 , b:0.6242436889192255\n",
      "epoch 990 | loss : 91.52240839448874 | w: 0.8947729462129241 , b:0.6242436889192255\n",
      "8.677200204835543\n"
     ]
    }
   ],
   "source": [
    "epochs = 1000\n",
    "\n",
    "for epoch in range(epochs):\n",
    "    total_loss = 0\n",
    "    for x,y in zip(input,output):\n",
    "        y_pred = w*x + b\n",
    "        error = y_pred - y\n",
    "        loss = error**2\n",
    "        total_loss = total_loss + loss\n",
    "\n",
    "\n",
    "        w = w - lr * (2)*(y_pred-y) * x\n",
    "        b = b - lr * (2)*(y_pred-y)\n",
    "\n",
    "    if epoch % 10 == 0:\n",
    "        print(f\"epoch {epoch} | loss : {total_loss} | w: {w} , b:{b}\")\n",
    "\n",
    "test_data = 9\n",
    "test_pred = w*test_data + b\n",
    "print(test_pred)"
   ]
  },
  {
   "cell_type": "code",
   "execution_count": 11,
   "metadata": {},
   "outputs": [
    {
     "name": "stdout",
     "output_type": "stream",
     "text": [
      "8.677200204835543\n"
     ]
    }
   ],
   "source": [
    "test_data = 9\n",
    "test_pred = w*test_data + b\n",
    "print(test_pred)"
   ]
  },
  {
   "cell_type": "code",
   "execution_count": 12,
   "metadata": {},
   "outputs": [],
   "source": [
    "input = [1,2,3,4,5]\n",
    "output = [2,4,6,8,10]"
   ]
  },
  {
   "cell_type": "code",
   "execution_count": 13,
   "metadata": {},
   "outputs": [],
   "source": [
    "w1 , b1 = .1 , 0.0\n",
    "w2 , b2 = -0.1, 0.0\n",
    "w3,w4 = .1, .1\n",
    "b3 = 0.01\n",
    "\n",
    "lr = 0.01\n",
    "training_epoch = 100"
   ]
  },
  {
   "cell_type": "code",
   "execution_count": 14,
   "metadata": {},
   "outputs": [],
   "source": [
    "def relu(x):\n",
    "    return max(0,x)"
   ]
  },
  {
   "cell_type": "code",
   "execution_count": 15,
   "metadata": {},
   "outputs": [],
   "source": [
    "def relu_derivative(x):\n",
    "    return 1 if x > 0 else 0"
   ]
  },
  {
   "cell_type": "code",
   "execution_count": 16,
   "metadata": {},
   "outputs": [
    {
     "name": "stdout",
     "output_type": "stream",
     "text": [
      "epoch 0 | loss : 197.0685708221555 | w: (0.5098380451402127, -0.1, 0.5196628381037598, 0.1) , b:(0.10067545395867217, 0.0, 0.5823375880490148)\n",
      "epoch 10 | loss : 0.793533367021275 | w: (1.363710876138486, -0.1, 1.3637415446821533, 0.1) , b:(0.0784859207871722, 0.0, 0.7217309513176791)\n",
      "epoch 20 | loss : 0.281563408095678 | w: (1.3847144755052267, -0.1, 1.3836733832470507, 0.1) , b:(-0.08147663874497554, 0.0, 0.6055417859838913)\n",
      "epoch 30 | loss : 0.09560153604527108 | w: (1.3930463760307379, -0.1, 1.4004054004695405, 0.1) , b:(-0.17805826319173718, 0.0, 0.5362344920593437)\n",
      "epoch 40 | loss : 0.031437336030498426 | w: (1.3964839444206754, -0.1, 1.4119134774759088, 0.1) , b:(-0.23477951131765798, 0.0, 0.4959187831394701)\n",
      "epoch 50 | loss : 0.01012673377170014 | w: (1.3979917189428612, -0.1, 1.4191168813105783, 0.1) , b:(-0.2674502250653212, 0.0, 0.4728450211436671)\n",
      "epoch 60 | loss : 0.003221656286840051 | w: (1.3986990449194294, -0.1, 1.4234052522194012, 0.1) , b:(-0.2860387746575426, 0.0, 0.45976816344252525)\n",
      "epoch 70 | loss : 0.0010174850301137605 | w: (1.3990509883193485, -0.1, 1.4258887022065991, 0.1) , b:(-0.29653783660039545, 0.0, 0.4523992121423616)\n",
      "epoch 80 | loss : 0.00032001188245096157 | w: (1.399233970100707, -0.1, 1.4273049769797217, 0.1) , b:(-0.3024427012445345, 0.0, 0.44826028409172824)\n",
      "epoch 90 | loss : 0.00010041019841556446 | w: (1.399331940699277, -0.1, 1.4281057619106032, 0.1) , b:(-0.3057556608879676, 0.0, 0.44593986745331227)\n"
     ]
    }
   ],
   "source": [
    "for epoch in range(training_epoch):\n",
    "    total_loss = 0\n",
    "    for x , y in zip(input,output):\n",
    "        z1 = w1 *x + b1\n",
    "        h1 = relu(z1)\n",
    "        \n",
    "        z2 = w2 * x + b2 \n",
    "        h2 = relu(z2)\n",
    "\n",
    "        y_pred = w3*h1 + w4*h2 + b3 \n",
    "\n",
    "        error = y_pred - y\n",
    "\n",
    "        loss = error**2\n",
    "\n",
    "        total_loss = total_loss + loss\n",
    "        \n",
    "        dl_dy = 2 * error \n",
    "\n",
    "        dw3 = dl_dy * h1\n",
    "        dw4 = dl_dy * h2\n",
    "        db3 = dl_dy\n",
    "\n",
    "        dh1 = dl_dy * w3 \n",
    "        dh2 = dl_dy * w4 \n",
    "\n",
    "        dz1 = dh1 * relu_derivative(z1)\n",
    "        dz2 = dh2 * relu_derivative(z2)\n",
    "\n",
    "        dw1 = dz1 * x \n",
    "        db1 = dz1 \n",
    "\n",
    "        dw2 = dz2 * x \n",
    "        db2 = dz2 \n",
    "\n",
    "        w1 = w1 - lr * dw1 \n",
    "        w2 = w2 - lr * dw2\n",
    "        w3 = w3 - lr * dw3\n",
    "        w4 = w4 - lr * dw4\n",
    "\n",
    "        b1 = b1 - lr * db1\n",
    "        b2 = b2 - lr * db2\n",
    "        b3 = b3 - lr * db3\n",
    "    \n",
    "    if epoch % 10 == 0:\n",
    "        print(f\"epoch {epoch} | loss : {total_loss} | w: {w1,w2,w3,w4} , b:{b1,b2,b3}\")\n"
   ]
  },
  {
   "cell_type": "code",
   "execution_count": 17,
   "metadata": {},
   "outputs": [],
   "source": [
    "def prediction_data(x) :\n",
    "    z1 = w1 *x + b1\n",
    "    h1 = relu(z1)\n",
    "        \n",
    "    z2 = w2 * x + b2 \n",
    "    h2 = relu(z2)\n",
    "\n",
    "    y_pred = w3*h1 + w4*h2 + b3 \n",
    "\n",
    "    return y_pred"
   ]
  },
  {
   "cell_type": "code",
   "execution_count": 18,
   "metadata": {},
   "outputs": [],
   "source": [
    "x_test_pred =9\n",
    "\n",
    "y_test_pred = prediction_data(x_test_pred)"
   ]
  },
  {
   "cell_type": "code",
   "execution_count": 19,
   "metadata": {},
   "outputs": [
    {
     "data": {
      "text/plain": [
       "17.99693456878721"
      ]
     },
     "execution_count": 19,
     "metadata": {},
     "output_type": "execute_result"
    }
   ],
   "source": [
    "y_test_pred"
   ]
  },
  {
   "cell_type": "markdown",
   "metadata": {},
   "source": [
    "### Model Build By Tensorflow"
   ]
  },
  {
   "cell_type": "code",
   "execution_count": 21,
   "metadata": {},
   "outputs": [],
   "source": [
    "import tensorflow as tf # type: ignore\n",
    "import numpy as np"
   ]
  },
  {
   "cell_type": "code",
   "execution_count": 57,
   "metadata": {},
   "outputs": [],
   "source": [
    "input = np.arange(1,100,10)\n",
    "output = 3 * input"
   ]
  },
  {
   "cell_type": "code",
   "execution_count": 59,
   "metadata": {},
   "outputs": [
    {
     "name": "stderr",
     "output_type": "stream",
     "text": [
      "d:\\Data_Science_Study\\Course_Pracitse_Code\\NLP\\venv\\Lib\\site-packages\\keras\\src\\layers\\core\\dense.py:87: UserWarning: Do not pass an `input_shape`/`input_dim` argument to a layer. When using Sequential models, prefer using an `Input(shape)` object as the first layer in the model instead.\n",
      "  super().__init__(activity_regularizer=activity_regularizer, **kwargs)\n"
     ]
    }
   ],
   "source": [
    "model = tf.keras.Sequential([\n",
    "    tf.keras.layers.Dense(100, activation= 'relu', input_shape = [1]),\n",
    "    tf.keras.layers.Dense(1)\n",
    "])"
   ]
  },
  {
   "cell_type": "code",
   "execution_count": null,
   "metadata": {},
   "outputs": [],
   "source": [
    "model.compile(optimizer=tf.keras.optimizers.SGD(learning_rate=.1),loss= 'mean_squared_error')"
   ]
  },
  {
   "cell_type": "code",
   "execution_count": null,
   "metadata": {},
   "outputs": [],
   "source": [
    "model.fit(input,output ,epochs = 1000, verbose= 1)"
   ]
  },
  {
   "cell_type": "markdown",
   "metadata": {},
   "source": [
    "# LSTM Model"
   ]
  },
  {
   "cell_type": "code",
   "execution_count": 91,
   "metadata": {},
   "outputs": [],
   "source": [
    "data = 'hello'\n",
    "char2idx = {'h':0 ,'e':1, \"l\":2, \"o\":3}\n",
    "\n",
    "idx2chr = {v:k for k,v in char2idx.items()}"
   ]
  },
  {
   "cell_type": "code",
   "execution_count": 92,
   "metadata": {},
   "outputs": [],
   "source": [
    "input_seq = [char2idx[c] for c in data[:-1]]\n",
    "target_seq = [char2idx[c] for c in data[1:]]"
   ]
  },
  {
   "cell_type": "code",
   "execution_count": 95,
   "metadata": {},
   "outputs": [],
   "source": [
    "x = tf.one_hot(input_seq, depth= 5)\n",
    "x = tf.expand_dims(x, axis= 0)\n",
    "\n",
    "y = tf.expand_dims(target_seq, axis= 0)"
   ]
  },
  {
   "cell_type": "code",
   "execution_count": 101,
   "metadata": {},
   "outputs": [
    {
     "data": {
      "text/plain": [
       "TensorShape([1, 4, 5])"
      ]
     },
     "execution_count": 101,
     "metadata": {},
     "output_type": "execute_result"
    }
   ],
   "source": [
    "x.shape"
   ]
  },
  {
   "cell_type": "code",
   "execution_count": 97,
   "metadata": {},
   "outputs": [
    {
     "data": {
      "text/plain": [
       "<tf.Tensor: shape=(1, 4), dtype=int32, numpy=array([[1, 2, 2, 3]])>"
      ]
     },
     "execution_count": 97,
     "metadata": {},
     "output_type": "execute_result"
    }
   ],
   "source": [
    "y"
   ]
  },
  {
   "cell_type": "code",
   "execution_count": 102,
   "metadata": {},
   "outputs": [
    {
     "name": "stderr",
     "output_type": "stream",
     "text": [
      "d:\\Data_Science_Study\\Course_Pracitse_Code\\NLP\\venv\\Lib\\site-packages\\keras\\src\\layers\\rnn\\rnn.py:200: UserWarning: Do not pass an `input_shape`/`input_dim` argument to a layer. When using Sequential models, prefer using an `Input(shape)` object as the first layer in the model instead.\n",
      "  super().__init__(**kwargs)\n"
     ]
    }
   ],
   "source": [
    "model = tf.keras.Sequential([\n",
    "    tf.keras.layers.LSTM(8,return_sequences = True, input_shape = (4,5)),\n",
    "    tf.keras.layers.Dense(4, activation='linear')\n",
    "])"
   ]
  },
  {
   "cell_type": "code",
   "execution_count": 103,
   "metadata": {},
   "outputs": [],
   "source": [
    "model.compile(optimizer='adam', loss = tf.keras.losses.SparseCategoricalCrossentropy(from_logits=True))"
   ]
  },
  {
   "cell_type": "code",
   "execution_count": 104,
   "metadata": {},
   "outputs": [
    {
     "name": "stdout",
     "output_type": "stream",
     "text": [
      "\u001b[1m1/1\u001b[0m \u001b[32m━━━━━━━━━━━━━━━━━━━━\u001b[0m\u001b[37m\u001b[0m \u001b[1m0s\u001b[0m 265ms/step\n",
      "\u001b[1m1/1\u001b[0m \u001b[32m━━━━━━━━━━━━━━━━━━━━\u001b[0m\u001b[37m\u001b[0m \u001b[1m0s\u001b[0m 423ms/step - loss: 1.4166\n",
      "epoch 0 | loss : 1.416567325592041 | output : oooo\n",
      "\u001b[1m1/1\u001b[0m \u001b[32m━━━━━━━━━━━━━━━━━━━━\u001b[0m\u001b[37m\u001b[0m \u001b[1m0s\u001b[0m 52ms/step\n",
      "\u001b[1m1/1\u001b[0m \u001b[32m━━━━━━━━━━━━━━━━━━━━\u001b[0m\u001b[37m\u001b[0m \u001b[1m0s\u001b[0m 60ms/step - loss: 1.3922\n",
      "epoch 10 | loss : 1.392174243927002 | output : oooo\n",
      "\u001b[1m1/1\u001b[0m \u001b[32m━━━━━━━━━━━━━━━━━━━━\u001b[0m\u001b[37m\u001b[0m \u001b[1m0s\u001b[0m 57ms/step\n",
      "\u001b[1m1/1\u001b[0m \u001b[32m━━━━━━━━━━━━━━━━━━━━\u001b[0m\u001b[37m\u001b[0m \u001b[1m0s\u001b[0m 57ms/step - loss: 1.3689\n",
      "epoch 20 | loss : 1.3688879013061523 | output : looo\n",
      "\u001b[1m1/1\u001b[0m \u001b[32m━━━━━━━━━━━━━━━━━━━━\u001b[0m\u001b[37m\u001b[0m \u001b[1m0s\u001b[0m 54ms/step\n",
      "\u001b[1m1/1\u001b[0m \u001b[32m━━━━━━━━━━━━━━━━━━━━\u001b[0m\u001b[37m\u001b[0m \u001b[1m0s\u001b[0m 82ms/step - loss: 1.3462\n",
      "epoch 30 | loss : 1.3461980819702148 | output : looo\n",
      "\u001b[1m1/1\u001b[0m \u001b[32m━━━━━━━━━━━━━━━━━━━━\u001b[0m\u001b[37m\u001b[0m \u001b[1m0s\u001b[0m 58ms/step\n",
      "\u001b[1m1/1\u001b[0m \u001b[32m━━━━━━━━━━━━━━━━━━━━\u001b[0m\u001b[37m\u001b[0m \u001b[1m0s\u001b[0m 72ms/step - loss: 1.3236\n",
      "epoch 40 | loss : 1.3235559463500977 | output : lloo\n",
      "\u001b[1m1/1\u001b[0m \u001b[32m━━━━━━━━━━━━━━━━━━━━\u001b[0m\u001b[37m\u001b[0m \u001b[1m0s\u001b[0m 56ms/step\n",
      "\u001b[1m1/1\u001b[0m \u001b[32m━━━━━━━━━━━━━━━━━━━━\u001b[0m\u001b[37m\u001b[0m \u001b[1m0s\u001b[0m 62ms/step - loss: 1.3004\n",
      "epoch 50 | loss : 1.300410270690918 | output : lloo\n",
      "\u001b[1m1/1\u001b[0m \u001b[32m━━━━━━━━━━━━━━━━━━━━\u001b[0m\u001b[37m\u001b[0m \u001b[1m0s\u001b[0m 64ms/step\n",
      "\u001b[1m1/1\u001b[0m \u001b[32m━━━━━━━━━━━━━━━━━━━━\u001b[0m\u001b[37m\u001b[0m \u001b[1m0s\u001b[0m 63ms/step - loss: 1.2763\n",
      "epoch 60 | loss : 1.2762517929077148 | output : lloo\n",
      "\u001b[1m1/1\u001b[0m \u001b[32m━━━━━━━━━━━━━━━━━━━━\u001b[0m\u001b[37m\u001b[0m \u001b[1m0s\u001b[0m 93ms/step\n",
      "\u001b[1m1/1\u001b[0m \u001b[32m━━━━━━━━━━━━━━━━━━━━\u001b[0m\u001b[37m\u001b[0m \u001b[1m0s\u001b[0m 88ms/step - loss: 1.2506\n",
      "epoch 70 | loss : 1.2505987882614136 | output : lloo\n",
      "\u001b[1m1/1\u001b[0m \u001b[32m━━━━━━━━━━━━━━━━━━━━\u001b[0m\u001b[37m\u001b[0m \u001b[1m0s\u001b[0m 64ms/step\n",
      "\u001b[1m1/1\u001b[0m \u001b[32m━━━━━━━━━━━━━━━━━━━━\u001b[0m\u001b[37m\u001b[0m \u001b[1m0s\u001b[0m 80ms/step - loss: 1.2230\n",
      "epoch 80 | loss : 1.2229597568511963 | output : lloo\n",
      "\u001b[1m1/1\u001b[0m \u001b[32m━━━━━━━━━━━━━━━━━━━━\u001b[0m\u001b[37m\u001b[0m \u001b[1m0s\u001b[0m 82ms/step\n",
      "\u001b[1m1/1\u001b[0m \u001b[32m━━━━━━━━━━━━━━━━━━━━\u001b[0m\u001b[37m\u001b[0m \u001b[1m0s\u001b[0m 72ms/step - loss: 1.1928\n",
      "epoch 90 | loss : 1.192821741104126 | output : lloo\n",
      "\u001b[1m1/1\u001b[0m \u001b[32m━━━━━━━━━━━━━━━━━━━━\u001b[0m\u001b[37m\u001b[0m \u001b[1m0s\u001b[0m 65ms/step\n",
      "\u001b[1m1/1\u001b[0m \u001b[32m━━━━━━━━━━━━━━━━━━━━\u001b[0m\u001b[37m\u001b[0m \u001b[1m0s\u001b[0m 75ms/step - loss: 1.1597\n",
      "epoch 100 | loss : 1.1596782207489014 | output : lllo\n",
      "\u001b[1m1/1\u001b[0m \u001b[32m━━━━━━━━━━━━━━━━━━━━\u001b[0m\u001b[37m\u001b[0m \u001b[1m0s\u001b[0m 73ms/step\n",
      "\u001b[1m1/1\u001b[0m \u001b[32m━━━━━━━━━━━━━━━━━━━━\u001b[0m\u001b[37m\u001b[0m \u001b[1m0s\u001b[0m 69ms/step - loss: 1.1231\n",
      "epoch 110 | loss : 1.123105764389038 | output : lllo\n",
      "\u001b[1m1/1\u001b[0m \u001b[32m━━━━━━━━━━━━━━━━━━━━\u001b[0m\u001b[37m\u001b[0m \u001b[1m0s\u001b[0m 66ms/step\n",
      "\u001b[1m1/1\u001b[0m \u001b[32m━━━━━━━━━━━━━━━━━━━━\u001b[0m\u001b[37m\u001b[0m \u001b[1m0s\u001b[0m 103ms/step - loss: 1.0829\n",
      "epoch 120 | loss : 1.082899808883667 | output : lllo\n",
      "\u001b[1m1/1\u001b[0m \u001b[32m━━━━━━━━━━━━━━━━━━━━\u001b[0m\u001b[37m\u001b[0m \u001b[1m0s\u001b[0m 105ms/step\n",
      "\u001b[1m1/1\u001b[0m \u001b[32m━━━━━━━━━━━━━━━━━━━━\u001b[0m\u001b[37m\u001b[0m \u001b[1m0s\u001b[0m 83ms/step - loss: 1.0392\n",
      "epoch 130 | loss : 1.039237380027771 | output : lllo\n",
      "\u001b[1m1/1\u001b[0m \u001b[32m━━━━━━━━━━━━━━━━━━━━\u001b[0m\u001b[37m\u001b[0m \u001b[1m0s\u001b[0m 63ms/step\n",
      "\u001b[1m1/1\u001b[0m \u001b[32m━━━━━━━━━━━━━━━━━━━━\u001b[0m\u001b[37m\u001b[0m \u001b[1m0s\u001b[0m 82ms/step - loss: 0.9928\n",
      "epoch 140 | loss : 0.9927651882171631 | output : lllo\n",
      "\u001b[1m1/1\u001b[0m \u001b[32m━━━━━━━━━━━━━━━━━━━━\u001b[0m\u001b[37m\u001b[0m \u001b[1m0s\u001b[0m 59ms/step\n",
      "\u001b[1m1/1\u001b[0m \u001b[32m━━━━━━━━━━━━━━━━━━━━\u001b[0m\u001b[37m\u001b[0m \u001b[1m0s\u001b[0m 66ms/step - loss: 0.9445\n",
      "epoch 150 | loss : 0.9444855451583862 | output : lllo\n",
      "\u001b[1m1/1\u001b[0m \u001b[32m━━━━━━━━━━━━━━━━━━━━\u001b[0m\u001b[37m\u001b[0m \u001b[1m0s\u001b[0m 76ms/step\n",
      "\u001b[1m1/1\u001b[0m \u001b[32m━━━━━━━━━━━━━━━━━━━━\u001b[0m\u001b[37m\u001b[0m \u001b[1m0s\u001b[0m 109ms/step - loss: 0.8954\n",
      "epoch 160 | loss : 0.895436704158783 | output : lllo\n",
      "\u001b[1m1/1\u001b[0m \u001b[32m━━━━━━━━━━━━━━━━━━━━\u001b[0m\u001b[37m\u001b[0m \u001b[1m0s\u001b[0m 97ms/step\n",
      "\u001b[1m1/1\u001b[0m \u001b[32m━━━━━━━━━━━━━━━━━━━━\u001b[0m\u001b[37m\u001b[0m \u001b[1m0s\u001b[0m 80ms/step - loss: 0.8464\n",
      "epoch 170 | loss : 0.8463990092277527 | output : lllo\n",
      "\u001b[1m1/1\u001b[0m \u001b[32m━━━━━━━━━━━━━━━━━━━━\u001b[0m\u001b[37m\u001b[0m \u001b[1m0s\u001b[0m 83ms/step\n",
      "\u001b[1m1/1\u001b[0m \u001b[32m━━━━━━━━━━━━━━━━━━━━\u001b[0m\u001b[37m\u001b[0m \u001b[1m0s\u001b[0m 152ms/step - loss: 0.7978\n",
      "epoch 180 | loss : 0.7978276014328003 | output : lllo\n",
      "\u001b[1m1/1\u001b[0m \u001b[32m━━━━━━━━━━━━━━━━━━━━\u001b[0m\u001b[37m\u001b[0m \u001b[1m0s\u001b[0m 81ms/step\n",
      "\u001b[1m1/1\u001b[0m \u001b[32m━━━━━━━━━━━━━━━━━━━━\u001b[0m\u001b[37m\u001b[0m \u001b[1m0s\u001b[0m 178ms/step - loss: 0.7499\n",
      "epoch 190 | loss : 0.7499414086341858 | output : lllo\n",
      "\u001b[1m1/1\u001b[0m \u001b[32m━━━━━━━━━━━━━━━━━━━━\u001b[0m\u001b[37m\u001b[0m \u001b[1m0s\u001b[0m 98ms/step\n",
      "\u001b[1m1/1\u001b[0m \u001b[32m━━━━━━━━━━━━━━━━━━━━\u001b[0m\u001b[37m\u001b[0m \u001b[1m0s\u001b[0m 85ms/step - loss: 0.7028\n",
      "epoch 200 | loss : 0.7028204798698425 | output : lllo\n",
      "\u001b[1m1/1\u001b[0m \u001b[32m━━━━━━━━━━━━━━━━━━━━\u001b[0m\u001b[37m\u001b[0m \u001b[1m0s\u001b[0m 152ms/step\n",
      "\u001b[1m1/1\u001b[0m \u001b[32m━━━━━━━━━━━━━━━━━━━━\u001b[0m\u001b[37m\u001b[0m \u001b[1m0s\u001b[0m 97ms/step - loss: 0.6565\n",
      "epoch 210 | loss : 0.6565307378768921 | output : lllo\n",
      "\u001b[1m1/1\u001b[0m \u001b[32m━━━━━━━━━━━━━━━━━━━━\u001b[0m\u001b[37m\u001b[0m \u001b[1m0s\u001b[0m 104ms/step\n",
      "\u001b[1m1/1\u001b[0m \u001b[32m━━━━━━━━━━━━━━━━━━━━\u001b[0m\u001b[37m\u001b[0m \u001b[1m0s\u001b[0m 218ms/step - loss: 0.6113\n",
      "epoch 220 | loss : 0.6112502217292786 | output : lllo\n",
      "\u001b[1m1/1\u001b[0m \u001b[32m━━━━━━━━━━━━━━━━━━━━\u001b[0m\u001b[37m\u001b[0m \u001b[1m0s\u001b[0m 97ms/step\n",
      "\u001b[1m1/1\u001b[0m \u001b[32m━━━━━━━━━━━━━━━━━━━━\u001b[0m\u001b[37m\u001b[0m \u001b[1m0s\u001b[0m 148ms/step - loss: 0.5673\n",
      "epoch 230 | loss : 0.5673032402992249 | output : lllo\n",
      "\u001b[1m1/1\u001b[0m \u001b[32m━━━━━━━━━━━━━━━━━━━━\u001b[0m\u001b[37m\u001b[0m \u001b[1m0s\u001b[0m 90ms/step\n",
      "\u001b[1m1/1\u001b[0m \u001b[32m━━━━━━━━━━━━━━━━━━━━\u001b[0m\u001b[37m\u001b[0m \u001b[1m0s\u001b[0m 101ms/step - loss: 0.5251\n",
      "epoch 240 | loss : 0.5251164436340332 | output : ello\n",
      "\u001b[1m1/1\u001b[0m \u001b[32m━━━━━━━━━━━━━━━━━━━━\u001b[0m\u001b[37m\u001b[0m \u001b[1m0s\u001b[0m 78ms/step\n",
      "\u001b[1m1/1\u001b[0m \u001b[32m━━━━━━━━━━━━━━━━━━━━\u001b[0m\u001b[37m\u001b[0m \u001b[1m0s\u001b[0m 107ms/step - loss: 0.4851\n",
      "epoch 250 | loss : 0.48512518405914307 | output : ello\n",
      "\u001b[1m1/1\u001b[0m \u001b[32m━━━━━━━━━━━━━━━━━━━━\u001b[0m\u001b[37m\u001b[0m \u001b[1m0s\u001b[0m 83ms/step\n",
      "\u001b[1m1/1\u001b[0m \u001b[32m━━━━━━━━━━━━━━━━━━━━\u001b[0m\u001b[37m\u001b[0m \u001b[1m0s\u001b[0m 82ms/step - loss: 0.4477\n",
      "epoch 260 | loss : 0.4476834833621979 | output : ello\n",
      "\u001b[1m1/1\u001b[0m \u001b[32m━━━━━━━━━━━━━━━━━━━━\u001b[0m\u001b[37m\u001b[0m \u001b[1m0s\u001b[0m 86ms/step\n",
      "\u001b[1m1/1\u001b[0m \u001b[32m━━━━━━━━━━━━━━━━━━━━\u001b[0m\u001b[37m\u001b[0m \u001b[1m0s\u001b[0m 80ms/step - loss: 0.4130\n",
      "epoch 270 | loss : 0.41300833225250244 | output : ello\n",
      "\u001b[1m1/1\u001b[0m \u001b[32m━━━━━━━━━━━━━━━━━━━━\u001b[0m\u001b[37m\u001b[0m \u001b[1m0s\u001b[0m 230ms/step\n",
      "\u001b[1m1/1\u001b[0m \u001b[32m━━━━━━━━━━━━━━━━━━━━\u001b[0m\u001b[37m\u001b[0m \u001b[1m0s\u001b[0m 92ms/step - loss: 0.3812\n",
      "epoch 280 | loss : 0.38116684556007385 | output : ello\n",
      "\u001b[1m1/1\u001b[0m \u001b[32m━━━━━━━━━━━━━━━━━━━━\u001b[0m\u001b[37m\u001b[0m \u001b[1m0s\u001b[0m 102ms/step\n",
      "\u001b[1m1/1\u001b[0m \u001b[32m━━━━━━━━━━━━━━━━━━━━\u001b[0m\u001b[37m\u001b[0m \u001b[1m0s\u001b[0m 98ms/step - loss: 0.3521\n",
      "epoch 290 | loss : 0.35209938883781433 | output : ello\n",
      "\u001b[1m1/1\u001b[0m \u001b[32m━━━━━━━━━━━━━━━━━━━━\u001b[0m\u001b[37m\u001b[0m \u001b[1m0s\u001b[0m 100ms/step\n",
      "\u001b[1m1/1\u001b[0m \u001b[32m━━━━━━━━━━━━━━━━━━━━\u001b[0m\u001b[37m\u001b[0m \u001b[1m0s\u001b[0m 84ms/step - loss: 0.3257\n",
      "epoch 300 | loss : 0.32565897703170776 | output : ello\n",
      "\u001b[1m1/1\u001b[0m \u001b[32m━━━━━━━━━━━━━━━━━━━━\u001b[0m\u001b[37m\u001b[0m \u001b[1m0s\u001b[0m 81ms/step\n",
      "\u001b[1m1/1\u001b[0m \u001b[32m━━━━━━━━━━━━━━━━━━━━\u001b[0m\u001b[37m\u001b[0m \u001b[1m0s\u001b[0m 81ms/step - loss: 0.3016\n",
      "epoch 310 | loss : 0.3016493320465088 | output : ello\n",
      "\u001b[1m1/1\u001b[0m \u001b[32m━━━━━━━━━━━━━━━━━━━━\u001b[0m\u001b[37m\u001b[0m \u001b[1m0s\u001b[0m 79ms/step\n",
      "\u001b[1m1/1\u001b[0m \u001b[32m━━━━━━━━━━━━━━━━━━━━\u001b[0m\u001b[37m\u001b[0m \u001b[1m0s\u001b[0m 85ms/step - loss: 0.2799\n",
      "epoch 320 | loss : 0.27985402941703796 | output : ello\n",
      "\u001b[1m1/1\u001b[0m \u001b[32m━━━━━━━━━━━━━━━━━━━━\u001b[0m\u001b[37m\u001b[0m \u001b[1m0s\u001b[0m 78ms/step\n",
      "\u001b[1m1/1\u001b[0m \u001b[32m━━━━━━━━━━━━━━━━━━━━\u001b[0m\u001b[37m\u001b[0m \u001b[1m0s\u001b[0m 98ms/step - loss: 0.2601\n",
      "epoch 330 | loss : 0.260057270526886 | output : ello\n",
      "\u001b[1m1/1\u001b[0m \u001b[32m━━━━━━━━━━━━━━━━━━━━\u001b[0m\u001b[37m\u001b[0m \u001b[1m0s\u001b[0m 80ms/step\n",
      "\u001b[1m1/1\u001b[0m \u001b[32m━━━━━━━━━━━━━━━━━━━━\u001b[0m\u001b[37m\u001b[0m \u001b[1m0s\u001b[0m 79ms/step - loss: 0.2421\n",
      "epoch 340 | loss : 0.24205496907234192 | output : ello\n",
      "\u001b[1m1/1\u001b[0m \u001b[32m━━━━━━━━━━━━━━━━━━━━\u001b[0m\u001b[37m\u001b[0m \u001b[1m0s\u001b[0m 106ms/step\n",
      "\u001b[1m1/1\u001b[0m \u001b[32m━━━━━━━━━━━━━━━━━━━━\u001b[0m\u001b[37m\u001b[0m \u001b[1m0s\u001b[0m 81ms/step - loss: 0.2257\n",
      "epoch 350 | loss : 0.22566063702106476 | output : ello\n",
      "\u001b[1m1/1\u001b[0m \u001b[32m━━━━━━━━━━━━━━━━━━━━\u001b[0m\u001b[37m\u001b[0m \u001b[1m0s\u001b[0m 72ms/step\n",
      "\u001b[1m1/1\u001b[0m \u001b[32m━━━━━━━━━━━━━━━━━━━━\u001b[0m\u001b[37m\u001b[0m \u001b[1m0s\u001b[0m 99ms/step - loss: 0.2107\n",
      "epoch 360 | loss : 0.21070699393749237 | output : ello\n",
      "\u001b[1m1/1\u001b[0m \u001b[32m━━━━━━━━━━━━━━━━━━━━\u001b[0m\u001b[37m\u001b[0m \u001b[1m0s\u001b[0m 77ms/step\n",
      "\u001b[1m1/1\u001b[0m \u001b[32m━━━━━━━━━━━━━━━━━━━━\u001b[0m\u001b[37m\u001b[0m \u001b[1m0s\u001b[0m 83ms/step - loss: 0.1970\n",
      "epoch 370 | loss : 0.19704537093639374 | output : ello\n",
      "\u001b[1m1/1\u001b[0m \u001b[32m━━━━━━━━━━━━━━━━━━━━\u001b[0m\u001b[37m\u001b[0m \u001b[1m0s\u001b[0m 76ms/step\n",
      "\u001b[1m1/1\u001b[0m \u001b[32m━━━━━━━━━━━━━━━━━━━━\u001b[0m\u001b[37m\u001b[0m \u001b[1m0s\u001b[0m 93ms/step - loss: 0.1845\n",
      "epoch 380 | loss : 0.184544175863266 | output : ello\n",
      "\u001b[1m1/1\u001b[0m \u001b[32m━━━━━━━━━━━━━━━━━━━━\u001b[0m\u001b[37m\u001b[0m \u001b[1m0s\u001b[0m 102ms/step\n",
      "\u001b[1m1/1\u001b[0m \u001b[32m━━━━━━━━━━━━━━━━━━━━\u001b[0m\u001b[37m\u001b[0m \u001b[1m0s\u001b[0m 87ms/step - loss: 0.1731\n",
      "epoch 390 | loss : 0.17308688163757324 | output : ello\n",
      "\u001b[1m1/1\u001b[0m \u001b[32m━━━━━━━━━━━━━━━━━━━━\u001b[0m\u001b[37m\u001b[0m \u001b[1m0s\u001b[0m 83ms/step\n",
      "\u001b[1m1/1\u001b[0m \u001b[32m━━━━━━━━━━━━━━━━━━━━\u001b[0m\u001b[37m\u001b[0m \u001b[1m0s\u001b[0m 81ms/step - loss: 0.1626\n",
      "epoch 400 | loss : 0.16257032752037048 | output : ello\n",
      "\u001b[1m1/1\u001b[0m \u001b[32m━━━━━━━━━━━━━━━━━━━━\u001b[0m\u001b[37m\u001b[0m \u001b[1m0s\u001b[0m 77ms/step\n",
      "\u001b[1m1/1\u001b[0m \u001b[32m━━━━━━━━━━━━━━━━━━━━\u001b[0m\u001b[37m\u001b[0m \u001b[1m0s\u001b[0m 83ms/step - loss: 0.1529\n",
      "epoch 410 | loss : 0.15290285646915436 | output : ello\n",
      "\u001b[1m1/1\u001b[0m \u001b[32m━━━━━━━━━━━━━━━━━━━━\u001b[0m\u001b[37m\u001b[0m \u001b[1m0s\u001b[0m 82ms/step\n",
      "\u001b[1m1/1\u001b[0m \u001b[32m━━━━━━━━━━━━━━━━━━━━\u001b[0m\u001b[37m\u001b[0m \u001b[1m0s\u001b[0m 100ms/step - loss: 0.1440\n",
      "epoch 420 | loss : 0.14400289952754974 | output : ello\n",
      "\u001b[1m1/1\u001b[0m \u001b[32m━━━━━━━━━━━━━━━━━━━━\u001b[0m\u001b[37m\u001b[0m \u001b[1m0s\u001b[0m 86ms/step\n",
      "\u001b[1m1/1\u001b[0m \u001b[32m━━━━━━━━━━━━━━━━━━━━\u001b[0m\u001b[37m\u001b[0m \u001b[1m0s\u001b[0m 78ms/step - loss: 0.1358\n",
      "epoch 430 | loss : 0.13579779863357544 | output : ello\n",
      "\u001b[1m1/1\u001b[0m \u001b[32m━━━━━━━━━━━━━━━━━━━━\u001b[0m\u001b[37m\u001b[0m \u001b[1m0s\u001b[0m 79ms/step\n",
      "\u001b[1m1/1\u001b[0m \u001b[32m━━━━━━━━━━━━━━━━━━━━\u001b[0m\u001b[37m\u001b[0m \u001b[1m0s\u001b[0m 78ms/step - loss: 0.1282\n",
      "epoch 440 | loss : 0.12822267413139343 | output : ello\n",
      "\u001b[1m1/1\u001b[0m \u001b[32m━━━━━━━━━━━━━━━━━━━━\u001b[0m\u001b[37m\u001b[0m \u001b[1m0s\u001b[0m 78ms/step\n",
      "\u001b[1m1/1\u001b[0m \u001b[32m━━━━━━━━━━━━━━━━━━━━\u001b[0m\u001b[37m\u001b[0m \u001b[1m0s\u001b[0m 79ms/step - loss: 0.1212\n",
      "epoch 450 | loss : 0.1212194412946701 | output : ello\n",
      "\u001b[1m1/1\u001b[0m \u001b[32m━━━━━━━━━━━━━━━━━━━━\u001b[0m\u001b[37m\u001b[0m \u001b[1m0s\u001b[0m 74ms/step\n",
      "\u001b[1m1/1\u001b[0m \u001b[32m━━━━━━━━━━━━━━━━━━━━\u001b[0m\u001b[37m\u001b[0m \u001b[1m0s\u001b[0m 72ms/step - loss: 0.1147\n",
      "epoch 460 | loss : 0.11473618447780609 | output : ello\n",
      "\u001b[1m1/1\u001b[0m \u001b[32m━━━━━━━━━━━━━━━━━━━━\u001b[0m\u001b[37m\u001b[0m \u001b[1m0s\u001b[0m 67ms/step\n",
      "\u001b[1m1/1\u001b[0m \u001b[32m━━━━━━━━━━━━━━━━━━━━\u001b[0m\u001b[37m\u001b[0m \u001b[1m0s\u001b[0m 92ms/step - loss: 0.1087\n",
      "epoch 470 | loss : 0.1087263971567154 | output : ello\n",
      "\u001b[1m1/1\u001b[0m \u001b[32m━━━━━━━━━━━━━━━━━━━━\u001b[0m\u001b[37m\u001b[0m \u001b[1m0s\u001b[0m 98ms/step\n",
      "\u001b[1m1/1\u001b[0m \u001b[32m━━━━━━━━━━━━━━━━━━━━\u001b[0m\u001b[37m\u001b[0m \u001b[1m0s\u001b[0m 143ms/step - loss: 0.1031\n",
      "epoch 480 | loss : 0.1031484454870224 | output : ello\n",
      "\u001b[1m1/1\u001b[0m \u001b[32m━━━━━━━━━━━━━━━━━━━━\u001b[0m\u001b[37m\u001b[0m \u001b[1m0s\u001b[0m 92ms/step\n",
      "\u001b[1m1/1\u001b[0m \u001b[32m━━━━━━━━━━━━━━━━━━━━\u001b[0m\u001b[37m\u001b[0m \u001b[1m0s\u001b[0m 93ms/step - loss: 0.0980\n",
      "epoch 490 | loss : 0.09796464443206787 | output : ello\n",
      "\u001b[1m1/1\u001b[0m \u001b[32m━━━━━━━━━━━━━━━━━━━━\u001b[0m\u001b[37m\u001b[0m \u001b[1m0s\u001b[0m 77ms/step\n",
      "\u001b[1m1/1\u001b[0m \u001b[32m━━━━━━━━━━━━━━━━━━━━\u001b[0m\u001b[37m\u001b[0m \u001b[1m0s\u001b[0m 82ms/step - loss: 0.0931\n",
      "epoch 500 | loss : 0.09314154833555222 | output : ello\n",
      "\u001b[1m1/1\u001b[0m \u001b[32m━━━━━━━━━━━━━━━━━━━━\u001b[0m\u001b[37m\u001b[0m \u001b[1m0s\u001b[0m 83ms/step\n",
      "\u001b[1m1/1\u001b[0m \u001b[32m━━━━━━━━━━━━━━━━━━━━\u001b[0m\u001b[37m\u001b[0m \u001b[1m0s\u001b[0m 97ms/step - loss: 0.0886\n",
      "epoch 510 | loss : 0.08864863216876984 | output : ello\n",
      "\u001b[1m1/1\u001b[0m \u001b[32m━━━━━━━━━━━━━━━━━━━━\u001b[0m\u001b[37m\u001b[0m \u001b[1m0s\u001b[0m 86ms/step\n",
      "\u001b[1m1/1\u001b[0m \u001b[32m━━━━━━━━━━━━━━━━━━━━\u001b[0m\u001b[37m\u001b[0m \u001b[1m0s\u001b[0m 101ms/step - loss: 0.0845\n",
      "epoch 520 | loss : 0.08445863425731659 | output : ello\n",
      "\u001b[1m1/1\u001b[0m \u001b[32m━━━━━━━━━━━━━━━━━━━━\u001b[0m\u001b[37m\u001b[0m \u001b[1m0s\u001b[0m 84ms/step\n",
      "\u001b[1m1/1\u001b[0m \u001b[32m━━━━━━━━━━━━━━━━━━━━\u001b[0m\u001b[37m\u001b[0m \u001b[1m0s\u001b[0m 144ms/step - loss: 0.0805\n",
      "epoch 530 | loss : 0.08054674416780472 | output : ello\n",
      "\u001b[1m1/1\u001b[0m \u001b[32m━━━━━━━━━━━━━━━━━━━━\u001b[0m\u001b[37m\u001b[0m \u001b[1m0s\u001b[0m 88ms/step\n",
      "\u001b[1m1/1\u001b[0m \u001b[32m━━━━━━━━━━━━━━━━━━━━\u001b[0m\u001b[37m\u001b[0m \u001b[1m0s\u001b[0m 95ms/step - loss: 0.0769\n",
      "epoch 540 | loss : 0.07689070701599121 | output : ello\n",
      "\u001b[1m1/1\u001b[0m \u001b[32m━━━━━━━━━━━━━━━━━━━━\u001b[0m\u001b[37m\u001b[0m \u001b[1m0s\u001b[0m 88ms/step\n",
      "\u001b[1m1/1\u001b[0m \u001b[32m━━━━━━━━━━━━━━━━━━━━\u001b[0m\u001b[37m\u001b[0m \u001b[1m0s\u001b[0m 85ms/step - loss: 0.0735\n",
      "epoch 550 | loss : 0.07347021996974945 | output : ello\n",
      "\u001b[1m1/1\u001b[0m \u001b[32m━━━━━━━━━━━━━━━━━━━━\u001b[0m\u001b[37m\u001b[0m \u001b[1m0s\u001b[0m 83ms/step\n",
      "\u001b[1m1/1\u001b[0m \u001b[32m━━━━━━━━━━━━━━━━━━━━\u001b[0m\u001b[37m\u001b[0m \u001b[1m0s\u001b[0m 85ms/step - loss: 0.0703\n",
      "epoch 560 | loss : 0.07026680558919907 | output : ello\n",
      "\u001b[1m1/1\u001b[0m \u001b[32m━━━━━━━━━━━━━━━━━━━━\u001b[0m\u001b[37m\u001b[0m \u001b[1m0s\u001b[0m 82ms/step\n",
      "\u001b[1m1/1\u001b[0m \u001b[32m━━━━━━━━━━━━━━━━━━━━\u001b[0m\u001b[37m\u001b[0m \u001b[1m0s\u001b[0m 95ms/step - loss: 0.0673\n",
      "epoch 570 | loss : 0.06726374477148056 | output : ello\n",
      "\u001b[1m1/1\u001b[0m \u001b[32m━━━━━━━━━━━━━━━━━━━━\u001b[0m\u001b[37m\u001b[0m \u001b[1m0s\u001b[0m 160ms/step\n",
      "\u001b[1m1/1\u001b[0m \u001b[32m━━━━━━━━━━━━━━━━━━━━\u001b[0m\u001b[37m\u001b[0m \u001b[1m0s\u001b[0m 108ms/step - loss: 0.0644\n",
      "epoch 580 | loss : 0.06444574147462845 | output : ello\n",
      "\u001b[1m1/1\u001b[0m \u001b[32m━━━━━━━━━━━━━━━━━━━━\u001b[0m\u001b[37m\u001b[0m \u001b[1m0s\u001b[0m 78ms/step\n",
      "\u001b[1m1/1\u001b[0m \u001b[32m━━━━━━━━━━━━━━━━━━━━\u001b[0m\u001b[37m\u001b[0m \u001b[1m0s\u001b[0m 77ms/step - loss: 0.0618\n",
      "epoch 590 | loss : 0.06179892644286156 | output : ello\n",
      "\u001b[1m1/1\u001b[0m \u001b[32m━━━━━━━━━━━━━━━━━━━━\u001b[0m\u001b[37m\u001b[0m \u001b[1m0s\u001b[0m 111ms/step\n",
      "\u001b[1m1/1\u001b[0m \u001b[32m━━━━━━━━━━━━━━━━━━━━\u001b[0m\u001b[37m\u001b[0m \u001b[1m0s\u001b[0m 111ms/step - loss: 0.0593\n",
      "epoch 600 | loss : 0.05931047722697258 | output : ello\n",
      "\u001b[1m1/1\u001b[0m \u001b[32m━━━━━━━━━━━━━━━━━━━━\u001b[0m\u001b[37m\u001b[0m \u001b[1m0s\u001b[0m 93ms/step\n",
      "\u001b[1m1/1\u001b[0m \u001b[32m━━━━━━━━━━━━━━━━━━━━\u001b[0m\u001b[37m\u001b[0m \u001b[1m0s\u001b[0m 103ms/step - loss: 0.0570\n",
      "epoch 610 | loss : 0.056968823075294495 | output : ello\n",
      "\u001b[1m1/1\u001b[0m \u001b[32m━━━━━━━━━━━━━━━━━━━━\u001b[0m\u001b[37m\u001b[0m \u001b[1m0s\u001b[0m 72ms/step\n",
      "\u001b[1m1/1\u001b[0m \u001b[32m━━━━━━━━━━━━━━━━━━━━\u001b[0m\u001b[37m\u001b[0m \u001b[1m0s\u001b[0m 78ms/step - loss: 0.0548\n",
      "epoch 620 | loss : 0.05476318299770355 | output : ello\n",
      "\u001b[1m1/1\u001b[0m \u001b[32m━━━━━━━━━━━━━━━━━━━━\u001b[0m\u001b[37m\u001b[0m \u001b[1m0s\u001b[0m 65ms/step\n",
      "\u001b[1m1/1\u001b[0m \u001b[32m━━━━━━━━━━━━━━━━━━━━\u001b[0m\u001b[37m\u001b[0m \u001b[1m0s\u001b[0m 80ms/step - loss: 0.0527\n",
      "epoch 630 | loss : 0.05268380045890808 | output : ello\n",
      "\u001b[1m1/1\u001b[0m \u001b[32m━━━━━━━━━━━━━━━━━━━━\u001b[0m\u001b[37m\u001b[0m \u001b[1m0s\u001b[0m 62ms/step\n",
      "\u001b[1m1/1\u001b[0m \u001b[32m━━━━━━━━━━━━━━━━━━━━\u001b[0m\u001b[37m\u001b[0m \u001b[1m0s\u001b[0m 67ms/step - loss: 0.0507\n",
      "epoch 640 | loss : 0.05072171986103058 | output : ello\n",
      "\u001b[1m1/1\u001b[0m \u001b[32m━━━━━━━━━━━━━━━━━━━━\u001b[0m\u001b[37m\u001b[0m \u001b[1m0s\u001b[0m 64ms/step\n",
      "\u001b[1m1/1\u001b[0m \u001b[32m━━━━━━━━━━━━━━━━━━━━\u001b[0m\u001b[37m\u001b[0m \u001b[1m0s\u001b[0m 75ms/step - loss: 0.0489\n",
      "epoch 650 | loss : 0.048868563026189804 | output : ello\n",
      "\u001b[1m1/1\u001b[0m \u001b[32m━━━━━━━━━━━━━━━━━━━━\u001b[0m\u001b[37m\u001b[0m \u001b[1m0s\u001b[0m 81ms/step\n",
      "\u001b[1m1/1\u001b[0m \u001b[32m━━━━━━━━━━━━━━━━━━━━\u001b[0m\u001b[37m\u001b[0m \u001b[1m0s\u001b[0m 97ms/step - loss: 0.0471\n",
      "epoch 660 | loss : 0.047116853296756744 | output : ello\n",
      "\u001b[1m1/1\u001b[0m \u001b[32m━━━━━━━━━━━━━━━━━━━━\u001b[0m\u001b[37m\u001b[0m \u001b[1m0s\u001b[0m 85ms/step\n",
      "\u001b[1m1/1\u001b[0m \u001b[32m━━━━━━━━━━━━━━━━━━━━\u001b[0m\u001b[37m\u001b[0m \u001b[1m0s\u001b[0m 87ms/step - loss: 0.0455\n",
      "epoch 670 | loss : 0.045459482818841934 | output : ello\n",
      "\u001b[1m1/1\u001b[0m \u001b[32m━━━━━━━━━━━━━━━━━━━━\u001b[0m\u001b[37m\u001b[0m \u001b[1m0s\u001b[0m 79ms/step\n",
      "\u001b[1m1/1\u001b[0m \u001b[32m━━━━━━━━━━━━━━━━━━━━\u001b[0m\u001b[37m\u001b[0m \u001b[1m0s\u001b[0m 85ms/step - loss: 0.0439\n",
      "epoch 680 | loss : 0.04389005899429321 | output : ello\n",
      "\u001b[1m1/1\u001b[0m \u001b[32m━━━━━━━━━━━━━━━━━━━━\u001b[0m\u001b[37m\u001b[0m \u001b[1m0s\u001b[0m 68ms/step\n",
      "\u001b[1m1/1\u001b[0m \u001b[32m━━━━━━━━━━━━━━━━━━━━\u001b[0m\u001b[37m\u001b[0m \u001b[1m0s\u001b[0m 79ms/step - loss: 0.0424\n",
      "epoch 690 | loss : 0.04240259900689125 | output : ello\n",
      "\u001b[1m1/1\u001b[0m \u001b[32m━━━━━━━━━━━━━━━━━━━━\u001b[0m\u001b[37m\u001b[0m \u001b[1m0s\u001b[0m 90ms/step\n",
      "\u001b[1m1/1\u001b[0m \u001b[32m━━━━━━━━━━━━━━━━━━━━\u001b[0m\u001b[37m\u001b[0m \u001b[1m0s\u001b[0m 78ms/step - loss: 0.0410\n",
      "epoch 700 | loss : 0.0409916453063488 | output : ello\n",
      "\u001b[1m1/1\u001b[0m \u001b[32m━━━━━━━━━━━━━━━━━━━━\u001b[0m\u001b[37m\u001b[0m \u001b[1m0s\u001b[0m 83ms/step\n",
      "\u001b[1m1/1\u001b[0m \u001b[32m━━━━━━━━━━━━━━━━━━━━\u001b[0m\u001b[37m\u001b[0m \u001b[1m0s\u001b[0m 78ms/step - loss: 0.0397\n",
      "epoch 710 | loss : 0.03965216875076294 | output : ello\n",
      "\u001b[1m1/1\u001b[0m \u001b[32m━━━━━━━━━━━━━━━━━━━━\u001b[0m\u001b[37m\u001b[0m \u001b[1m0s\u001b[0m 70ms/step\n",
      "\u001b[1m1/1\u001b[0m \u001b[32m━━━━━━━━━━━━━━━━━━━━\u001b[0m\u001b[37m\u001b[0m \u001b[1m0s\u001b[0m 81ms/step - loss: 0.0384\n",
      "epoch 720 | loss : 0.03837946429848671 | output : ello\n",
      "\u001b[1m1/1\u001b[0m \u001b[32m━━━━━━━━━━━━━━━━━━━━\u001b[0m\u001b[37m\u001b[0m \u001b[1m0s\u001b[0m 71ms/step\n",
      "\u001b[1m1/1\u001b[0m \u001b[32m━━━━━━━━━━━━━━━━━━━━\u001b[0m\u001b[37m\u001b[0m \u001b[1m0s\u001b[0m 76ms/step - loss: 0.0372\n",
      "epoch 730 | loss : 0.03716924786567688 | output : ello\n",
      "\u001b[1m1/1\u001b[0m \u001b[32m━━━━━━━━━━━━━━━━━━━━\u001b[0m\u001b[37m\u001b[0m \u001b[1m0s\u001b[0m 68ms/step\n",
      "\u001b[1m1/1\u001b[0m \u001b[32m━━━━━━━━━━━━━━━━━━━━\u001b[0m\u001b[37m\u001b[0m \u001b[1m0s\u001b[0m 76ms/step - loss: 0.0360\n",
      "epoch 740 | loss : 0.03601749241352081 | output : ello\n",
      "\u001b[1m1/1\u001b[0m \u001b[32m━━━━━━━━━━━━━━━━━━━━\u001b[0m\u001b[37m\u001b[0m \u001b[1m0s\u001b[0m 70ms/step\n",
      "\u001b[1m1/1\u001b[0m \u001b[32m━━━━━━━━━━━━━━━━━━━━\u001b[0m\u001b[37m\u001b[0m \u001b[1m0s\u001b[0m 74ms/step - loss: 0.0349\n",
      "epoch 750 | loss : 0.03492046147584915 | output : ello\n",
      "\u001b[1m1/1\u001b[0m \u001b[32m━━━━━━━━━━━━━━━━━━━━\u001b[0m\u001b[37m\u001b[0m \u001b[1m0s\u001b[0m 68ms/step\n",
      "\u001b[1m1/1\u001b[0m \u001b[32m━━━━━━━━━━━━━━━━━━━━\u001b[0m\u001b[37m\u001b[0m \u001b[1m0s\u001b[0m 136ms/step - loss: 0.0339\n",
      "epoch 760 | loss : 0.03387490659952164 | output : ello\n",
      "\u001b[1m1/1\u001b[0m \u001b[32m━━━━━━━━━━━━━━━━━━━━\u001b[0m\u001b[37m\u001b[0m \u001b[1m0s\u001b[0m 83ms/step\n",
      "\u001b[1m1/1\u001b[0m \u001b[32m━━━━━━━━━━━━━━━━━━━━\u001b[0m\u001b[37m\u001b[0m \u001b[1m0s\u001b[0m 84ms/step - loss: 0.0329\n",
      "epoch 770 | loss : 0.03287758305668831 | output : ello\n",
      "\u001b[1m1/1\u001b[0m \u001b[32m━━━━━━━━━━━━━━━━━━━━\u001b[0m\u001b[37m\u001b[0m \u001b[1m0s\u001b[0m 67ms/step\n",
      "\u001b[1m1/1\u001b[0m \u001b[32m━━━━━━━━━━━━━━━━━━━━\u001b[0m\u001b[37m\u001b[0m \u001b[1m0s\u001b[0m 73ms/step - loss: 0.0319\n",
      "epoch 780 | loss : 0.031925469636917114 | output : ello\n",
      "\u001b[1m1/1\u001b[0m \u001b[32m━━━━━━━━━━━━━━━━━━━━\u001b[0m\u001b[37m\u001b[0m \u001b[1m0s\u001b[0m 71ms/step\n",
      "\u001b[1m1/1\u001b[0m \u001b[32m━━━━━━━━━━━━━━━━━━━━\u001b[0m\u001b[37m\u001b[0m \u001b[1m0s\u001b[0m 82ms/step - loss: 0.0310\n",
      "epoch 790 | loss : 0.031016048043966293 | output : ello\n",
      "\u001b[1m1/1\u001b[0m \u001b[32m━━━━━━━━━━━━━━━━━━━━\u001b[0m\u001b[37m\u001b[0m \u001b[1m0s\u001b[0m 72ms/step\n",
      "\u001b[1m1/1\u001b[0m \u001b[32m━━━━━━━━━━━━━━━━━━━━\u001b[0m\u001b[37m\u001b[0m \u001b[1m0s\u001b[0m 83ms/step - loss: 0.0301\n",
      "epoch 800 | loss : 0.03014661744236946 | output : ello\n",
      "\u001b[1m1/1\u001b[0m \u001b[32m━━━━━━━━━━━━━━━━━━━━\u001b[0m\u001b[37m\u001b[0m \u001b[1m0s\u001b[0m 93ms/step\n",
      "\u001b[1m1/1\u001b[0m \u001b[32m━━━━━━━━━━━━━━━━━━━━\u001b[0m\u001b[37m\u001b[0m \u001b[1m0s\u001b[0m 100ms/step - loss: 0.0293\n",
      "epoch 810 | loss : 0.029314978048205376 | output : ello\n",
      "\u001b[1m1/1\u001b[0m \u001b[32m━━━━━━━━━━━━━━━━━━━━\u001b[0m\u001b[37m\u001b[0m \u001b[1m0s\u001b[0m 97ms/step\n",
      "\u001b[1m1/1\u001b[0m \u001b[32m━━━━━━━━━━━━━━━━━━━━\u001b[0m\u001b[37m\u001b[0m \u001b[1m0s\u001b[0m 82ms/step - loss: 0.0285\n",
      "epoch 820 | loss : 0.02851875312626362 | output : ello\n",
      "\u001b[1m1/1\u001b[0m \u001b[32m━━━━━━━━━━━━━━━━━━━━\u001b[0m\u001b[37m\u001b[0m \u001b[1m0s\u001b[0m 67ms/step\n",
      "\u001b[1m1/1\u001b[0m \u001b[32m━━━━━━━━━━━━━━━━━━━━\u001b[0m\u001b[37m\u001b[0m \u001b[1m0s\u001b[0m 77ms/step - loss: 0.0278\n",
      "epoch 830 | loss : 0.027756087481975555 | output : ello\n",
      "\u001b[1m1/1\u001b[0m \u001b[32m━━━━━━━━━━━━━━━━━━━━\u001b[0m\u001b[37m\u001b[0m \u001b[1m0s\u001b[0m 67ms/step\n",
      "\u001b[1m1/1\u001b[0m \u001b[32m━━━━━━━━━━━━━━━━━━━━\u001b[0m\u001b[37m\u001b[0m \u001b[1m0s\u001b[0m 77ms/step - loss: 0.0270\n",
      "epoch 840 | loss : 0.027025114744901657 | output : ello\n",
      "\u001b[1m1/1\u001b[0m \u001b[32m━━━━━━━━━━━━━━━━━━━━\u001b[0m\u001b[37m\u001b[0m \u001b[1m0s\u001b[0m 67ms/step\n",
      "\u001b[1m1/1\u001b[0m \u001b[32m━━━━━━━━━━━━━━━━━━━━\u001b[0m\u001b[37m\u001b[0m \u001b[1m0s\u001b[0m 70ms/step - loss: 0.0263\n",
      "epoch 850 | loss : 0.026323966681957245 | output : ello\n",
      "\u001b[1m1/1\u001b[0m \u001b[32m━━━━━━━━━━━━━━━━━━━━\u001b[0m\u001b[37m\u001b[0m \u001b[1m0s\u001b[0m 71ms/step\n",
      "\u001b[1m1/1\u001b[0m \u001b[32m━━━━━━━━━━━━━━━━━━━━\u001b[0m\u001b[37m\u001b[0m \u001b[1m0s\u001b[0m 81ms/step - loss: 0.0257\n",
      "epoch 860 | loss : 0.02565106190741062 | output : ello\n",
      "\u001b[1m1/1\u001b[0m \u001b[32m━━━━━━━━━━━━━━━━━━━━\u001b[0m\u001b[37m\u001b[0m \u001b[1m0s\u001b[0m 64ms/step\n",
      "\u001b[1m1/1\u001b[0m \u001b[32m━━━━━━━━━━━━━━━━━━━━\u001b[0m\u001b[37m\u001b[0m \u001b[1m0s\u001b[0m 72ms/step - loss: 0.0250\n",
      "epoch 870 | loss : 0.025004874914884567 | output : ello\n",
      "\u001b[1m1/1\u001b[0m \u001b[32m━━━━━━━━━━━━━━━━━━━━\u001b[0m\u001b[37m\u001b[0m \u001b[1m0s\u001b[0m 64ms/step\n",
      "\u001b[1m1/1\u001b[0m \u001b[32m━━━━━━━━━━━━━━━━━━━━\u001b[0m\u001b[37m\u001b[0m \u001b[1m0s\u001b[0m 74ms/step - loss: 0.0244\n",
      "epoch 880 | loss : 0.02438393607735634 | output : ello\n",
      "\u001b[1m1/1\u001b[0m \u001b[32m━━━━━━━━━━━━━━━━━━━━\u001b[0m\u001b[37m\u001b[0m \u001b[1m0s\u001b[0m 68ms/step\n",
      "\u001b[1m1/1\u001b[0m \u001b[32m━━━━━━━━━━━━━━━━━━━━\u001b[0m\u001b[37m\u001b[0m \u001b[1m0s\u001b[0m 85ms/step - loss: 0.0238\n",
      "epoch 890 | loss : 0.023786963894963264 | output : ello\n",
      "\u001b[1m1/1\u001b[0m \u001b[32m━━━━━━━━━━━━━━━━━━━━\u001b[0m\u001b[37m\u001b[0m \u001b[1m0s\u001b[0m 66ms/step\n",
      "\u001b[1m1/1\u001b[0m \u001b[32m━━━━━━━━━━━━━━━━━━━━\u001b[0m\u001b[37m\u001b[0m \u001b[1m0s\u001b[0m 77ms/step - loss: 0.0232\n",
      "epoch 900 | loss : 0.023212721571326256 | output : ello\n",
      "\u001b[1m1/1\u001b[0m \u001b[32m━━━━━━━━━━━━━━━━━━━━\u001b[0m\u001b[37m\u001b[0m \u001b[1m0s\u001b[0m 71ms/step\n",
      "\u001b[1m1/1\u001b[0m \u001b[32m━━━━━━━━━━━━━━━━━━━━\u001b[0m\u001b[37m\u001b[0m \u001b[1m0s\u001b[0m 71ms/step - loss: 0.0227\n",
      "epoch 910 | loss : 0.022659966722130775 | output : ello\n",
      "\u001b[1m1/1\u001b[0m \u001b[32m━━━━━━━━━━━━━━━━━━━━\u001b[0m\u001b[37m\u001b[0m \u001b[1m0s\u001b[0m 75ms/step\n",
      "\u001b[1m1/1\u001b[0m \u001b[32m━━━━━━━━━━━━━━━━━━━━\u001b[0m\u001b[37m\u001b[0m \u001b[1m0s\u001b[0m 77ms/step - loss: 0.0221\n",
      "epoch 920 | loss : 0.02212773635983467 | output : ello\n",
      "\u001b[1m1/1\u001b[0m \u001b[32m━━━━━━━━━━━━━━━━━━━━\u001b[0m\u001b[37m\u001b[0m \u001b[1m0s\u001b[0m 69ms/step\n",
      "\u001b[1m1/1\u001b[0m \u001b[32m━━━━━━━━━━━━━━━━━━━━\u001b[0m\u001b[37m\u001b[0m \u001b[1m0s\u001b[0m 73ms/step - loss: 0.0216\n",
      "epoch 930 | loss : 0.021614857017993927 | output : ello\n",
      "\u001b[1m1/1\u001b[0m \u001b[32m━━━━━━━━━━━━━━━━━━━━\u001b[0m\u001b[37m\u001b[0m \u001b[1m0s\u001b[0m 67ms/step\n",
      "\u001b[1m1/1\u001b[0m \u001b[32m━━━━━━━━━━━━━━━━━━━━\u001b[0m\u001b[37m\u001b[0m \u001b[1m0s\u001b[0m 71ms/step - loss: 0.0211\n",
      "epoch 940 | loss : 0.02112043835222721 | output : ello\n",
      "\u001b[1m1/1\u001b[0m \u001b[32m━━━━━━━━━━━━━━━━━━━━\u001b[0m\u001b[37m\u001b[0m \u001b[1m0s\u001b[0m 75ms/step\n",
      "\u001b[1m1/1\u001b[0m \u001b[32m━━━━━━━━━━━━━━━━━━━━\u001b[0m\u001b[37m\u001b[0m \u001b[1m0s\u001b[0m 87ms/step - loss: 0.0206\n",
      "epoch 950 | loss : 0.02064361236989498 | output : ello\n",
      "\u001b[1m1/1\u001b[0m \u001b[32m━━━━━━━━━━━━━━━━━━━━\u001b[0m\u001b[37m\u001b[0m \u001b[1m0s\u001b[0m 93ms/step\n",
      "\u001b[1m1/1\u001b[0m \u001b[32m━━━━━━━━━━━━━━━━━━━━\u001b[0m\u001b[37m\u001b[0m \u001b[1m0s\u001b[0m 124ms/step - loss: 0.0202\n",
      "epoch 960 | loss : 0.020183473825454712 | output : ello\n",
      "\u001b[1m1/1\u001b[0m \u001b[32m━━━━━━━━━━━━━━━━━━━━\u001b[0m\u001b[37m\u001b[0m \u001b[1m0s\u001b[0m 89ms/step\n",
      "\u001b[1m1/1\u001b[0m \u001b[32m━━━━━━━━━━━━━━━━━━━━\u001b[0m\u001b[37m\u001b[0m \u001b[1m0s\u001b[0m 80ms/step - loss: 0.0197\n",
      "epoch 970 | loss : 0.019739236682653427 | output : ello\n",
      "\u001b[1m1/1\u001b[0m \u001b[32m━━━━━━━━━━━━━━━━━━━━\u001b[0m\u001b[37m\u001b[0m \u001b[1m0s\u001b[0m 71ms/step\n",
      "\u001b[1m1/1\u001b[0m \u001b[32m━━━━━━━━━━━━━━━━━━━━\u001b[0m\u001b[37m\u001b[0m \u001b[1m0s\u001b[0m 80ms/step - loss: 0.0193\n",
      "epoch 980 | loss : 0.019310133531689644 | output : ello\n",
      "\u001b[1m1/1\u001b[0m \u001b[32m━━━━━━━━━━━━━━━━━━━━\u001b[0m\u001b[37m\u001b[0m \u001b[1m0s\u001b[0m 69ms/step\n",
      "\u001b[1m1/1\u001b[0m \u001b[32m━━━━━━━━━━━━━━━━━━━━\u001b[0m\u001b[37m\u001b[0m \u001b[1m0s\u001b[0m 76ms/step - loss: 0.0189\n",
      "epoch 990 | loss : 0.018895592540502548 | output : ello\n"
     ]
    }
   ],
   "source": [
    "for epoch in range(1000):\n",
    "    model.train_on_batch(x,y)\n",
    "\n",
    "    if epoch % 10 == 0:\n",
    "        output = model.predict(x)\n",
    "        output = tf.argmax(output, axis= -1).numpy()[0]\n",
    "        pred_char = \"\".join([idx2chr[i] for i in output])\n",
    "        print(f\"epoch {epoch} | loss : {model.evaluate(x,y)} | output : {pred_char}\")"
   ]
  },
  {
   "cell_type": "code",
   "execution_count": 106,
   "metadata": {},
   "outputs": [],
   "source": [
    "model.save('lstm_text_pred.keras')"
   ]
  }
 ],
 "metadata": {
  "kernelspec": {
   "display_name": "Python 3",
   "language": "python",
   "name": "python3"
  },
  "language_info": {
   "codemirror_mode": {
    "name": "ipython",
    "version": 3
   },
   "file_extension": ".py",
   "mimetype": "text/x-python",
   "name": "python",
   "nbconvert_exporter": "python",
   "pygments_lexer": "ipython3",
   "version": "3.12.0"
  }
 },
 "nbformat": 4,
 "nbformat_minor": 2
}
