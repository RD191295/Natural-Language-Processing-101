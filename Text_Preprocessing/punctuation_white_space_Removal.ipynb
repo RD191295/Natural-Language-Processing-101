{
 "cells": [
  {
   "cell_type": "markdown",
   "metadata": {},
   "source": [
    "### Punctuation Removing"
   ]
  },
  {
   "cell_type": "markdown",
   "metadata": {},
   "source": [
    "### By String.punctuation"
   ]
  },
  {
   "cell_type": "code",
   "execution_count": 24,
   "metadata": {},
   "outputs": [
    {
     "name": "stdout",
     "output_type": "stream",
     "text": [
      "Natural language processing NLP is a fascinating field It deals with how computers understand and interact with human language Sentence tokenization is one of the basic tasks in NLP\n"
     ]
    }
   ],
   "source": [
    "import string\n",
    "text = \"Natural ##language proc##essing## (NLP) is a %%fascinating field. It @@deals with how computers understand and interact with human language***. ***Sentence &*tokenization is **one of the *&*basic tasks in NLP.\"\n",
    "\n",
    "# remove punctuation\n",
    "regular_punct = list(string.punctuation)\n",
    "\n",
    "# remove punctuation\n",
    "def remove_punctuation(text,punct_list):\n",
    "    process_text = \"\"\n",
    "    for char in text:\n",
    "        if char not in punct_list:\n",
    "            #print(char)\n",
    "            process_text +=char\n",
    "    return process_text\n",
    "    \n",
    "\n",
    "process_text = remove_punctuation(text,regular_punct)\n",
    "\n",
    "print(process_text)"
   ]
  },
  {
   "cell_type": "markdown",
   "metadata": {},
   "source": [
    "### Retain Punctuation\n",
    "\n",
    "#### If your word embedding matrix supports special symbols, then you should retain as it is in the text rather than discarding it. Because it is aware of the difference between happy and happy!!. However, each special symbol has its own meaning in a sentence. So, it is a good idea to retain it in a text. Sometimes we may loss useful intimation of a special character in a sentence if we remove it from a text.\n",
    "\n",
    "#### In this case, let’s see how to handle the special symbols in the below methods by just making the space in both sides of a symbol.\n"
   ]
  },
  {
   "cell_type": "code",
   "execution_count": 26,
   "metadata": {},
   "outputs": [
    {
     "data": {
      "text/plain": [
       "'Good morning !  !  How are you ?  ?'"
      ]
     },
     "execution_count": 26,
     "metadata": {},
     "output_type": "execute_result"
    }
   ],
   "source": [
    "import string\n",
    "\n",
    "regular_punct = list(string.punctuation)\n",
    "\n",
    "def spacing_punctuation(text,regular_punct):\n",
    "    for punc in regular_punct:\n",
    "        if punc in text:\n",
    "            text = text.replace(punc,f' {punc} ')\n",
    "    return text.strip()\n",
    "\n",
    "\n",
    "spacing_punctuation(\"Good morning!! How are you??\",regular_punct)"
   ]
  }
 ],
 "metadata": {
  "kernelspec": {
   "display_name": "base",
   "language": "python",
   "name": "python3"
  },
  "language_info": {
   "codemirror_mode": {
    "name": "ipython",
    "version": 3
   },
   "file_extension": ".py",
   "mimetype": "text/x-python",
   "name": "python",
   "nbconvert_exporter": "python",
   "pygments_lexer": "ipython3",
   "version": "3.12.7"
  }
 },
 "nbformat": 4,
 "nbformat_minor": 2
}
