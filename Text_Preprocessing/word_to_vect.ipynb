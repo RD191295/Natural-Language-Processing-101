{
 "cells": [
  {
   "cell_type": "code",
   "execution_count": 3,
   "metadata": {},
   "outputs": [],
   "source": [
    "import nltk\n",
    "import gensim\n",
    "import string\n",
    "import matplotlib.pyplot as plt\n",
    "from gensim.models import Word2Vec\n",
    "from nltk.tokenize import word_tokenize\n",
    "from nltk.corpus import stopwords\n",
    "import numpy as np\n",
    "import re"
   ]
  },
  {
   "cell_type": "code",
   "execution_count": null,
   "metadata": {},
   "outputs": [],
   "source": [
    "nltk.download()"
   ]
  },
  {
   "cell_type": "code",
   "execution_count": 4,
   "metadata": {},
   "outputs": [],
   "source": [
    "corups = [\n",
    "    \"my name is raj dalsaniya .\",\n",
    "    \"i love to learn all the data science along with ops and cloud !\",\n",
    "    \"fsf sskfdkgjfeijirdji mfdnidfjiejk 173984729#2fifi ndjikm^\",\n",
    "    \"nlp is very very amazing\",\n",
    "    \"We are trying to learn word2vec,\",\n",
    "    \"We will try to build two models for word2vec cbow and skipgram\",\n",
    "    \"we will also work on cleaning the data which is basically part of data preprocessing\",\n",
    "    \"natural language processing is a part of AI,\",\n",
    "    \"my phone number is 9408332091\",\n",
    "    \"wor2vec is being used for word embeddings.\",\n",
    "    \"it is going to perform better then one hot-encoding, bow or TF-IDF\"\n",
    "]"
   ]
  },
  {
   "cell_type": "code",
   "execution_count": 9,
   "metadata": {},
   "outputs": [
    {
     "data": {
      "text/plain": [
       "'my name is raj dalsaniya 453 54345  .'"
      ]
     },
     "execution_count": 9,
     "metadata": {},
     "output_type": "execute_result"
    }
   ],
   "source": [
    "s = \"my name is raj dalsaniya 453 54345  .\"\n",
    "s.lower()"
   ]
  },
  {
   "cell_type": "code",
   "execution_count": 10,
   "metadata": {},
   "outputs": [
    {
     "data": {
      "text/plain": [
       "'my name is raj dalsaniya    .'"
      ]
     },
     "execution_count": 10,
     "metadata": {},
     "output_type": "execute_result"
    }
   ],
   "source": [
    "re.sub(r'\\d+',\"\",s)"
   ]
  },
  {
   "cell_type": "code",
   "execution_count": 11,
   "metadata": {},
   "outputs": [
    {
     "data": {
      "text/plain": [
       "'!\"#$%&\\'()*+,-./:;<=>?@[\\\\]^_`{|}~'"
      ]
     },
     "execution_count": 11,
     "metadata": {},
     "output_type": "execute_result"
    }
   ],
   "source": [
    "string.punctuation"
   ]
  },
  {
   "cell_type": "code",
   "execution_count": 12,
   "metadata": {},
   "outputs": [
    {
     "data": {
      "text/plain": [
       "'my name is raj dalsaniya 453 54345  '"
      ]
     },
     "execution_count": 12,
     "metadata": {},
     "output_type": "execute_result"
    }
   ],
   "source": [
    "s.translate(str.maketrans(\"\",\"\",string.punctuation))"
   ]
  },
  {
   "cell_type": "code",
   "execution_count": 14,
   "metadata": {},
   "outputs": [],
   "source": [
    "s1 = word_tokenize(s)"
   ]
  },
  {
   "cell_type": "code",
   "execution_count": 15,
   "metadata": {},
   "outputs": [
    {
     "data": {
      "text/plain": [
       "['my', 'name', 'is', 'raj', 'dalsaniya', '453', '54345', '.']"
      ]
     },
     "execution_count": 15,
     "metadata": {},
     "output_type": "execute_result"
    }
   ],
   "source": [
    "s1"
   ]
  },
  {
   "cell_type": "code",
   "execution_count": 16,
   "metadata": {},
   "outputs": [
    {
     "data": {
      "text/plain": [
       "['name', 'raj', 'dalsaniya', '453', '54345', '.']"
      ]
     },
     "execution_count": 16,
     "metadata": {},
     "output_type": "execute_result"
    }
   ],
   "source": [
    "[ i for i in s1 if i not in stopwords.words('english')]"
   ]
  },
  {
   "cell_type": "code",
   "execution_count": 17,
   "metadata": {},
   "outputs": [],
   "source": [
    "def word_prepprocessing(text) :\n",
    "    text = text.lower()\n",
    "    text = re.sub(r'\\d+',\"\",text)\n",
    "    text = text.translate(str.maketrans(\"\",\"\",string.punctuation))\n",
    "    word = word_tokenize(text)\n",
    "    word = [ i for i in word if i not in stopwords.words('english')]\n",
    "    return word "
   ]
  },
  {
   "cell_type": "code",
   "execution_count": 19,
   "metadata": {},
   "outputs": [
    {
     "data": {
      "text/plain": [
       "['my name is raj dalsaniya .',\n",
       " 'i love to learn all the data science along with ops and cloud !',\n",
       " 'fsf sskfdkgjfeijirdji mfdnidfjiejk 173984729#2fifi ndjikm^',\n",
       " 'nlp is very very amazing',\n",
       " 'We are trying to learn word2vec,',\n",
       " 'We will try to build two models for word2vec cbow and skipgram',\n",
       " 'we will also work on cleaning the data which is basically part of data preprocessing',\n",
       " 'natural language processing is a part of AI,',\n",
       " 'my phone number is 9408332091',\n",
       " 'wor2vec is being used for word embeddings.',\n",
       " 'it is going to perform better then one hot-encoding, bow or TF-IDF']"
      ]
     },
     "execution_count": 19,
     "metadata": {},
     "output_type": "execute_result"
    }
   ],
   "source": [
    "corups"
   ]
  },
  {
   "cell_type": "code",
   "execution_count": 21,
   "metadata": {},
   "outputs": [],
   "source": [
    "processed_corpus = [word_prepprocessing(sentence) for sentence in corups]"
   ]
  },
  {
   "cell_type": "code",
   "execution_count": 22,
   "metadata": {},
   "outputs": [
    {
     "data": {
      "text/plain": [
       "[['name', 'raj', 'dalsaniya'],\n",
       " ['love', 'learn', 'data', 'science', 'along', 'ops', 'cloud'],\n",
       " ['fsf', 'sskfdkgjfeijirdji', 'mfdnidfjiejk', 'fifi', 'ndjikm'],\n",
       " ['nlp', 'amazing'],\n",
       " ['trying', 'learn', 'wordvec'],\n",
       " ['try', 'build', 'two', 'models', 'wordvec', 'cbow', 'skipgram'],\n",
       " ['also',\n",
       "  'work',\n",
       "  'cleaning',\n",
       "  'data',\n",
       "  'basically',\n",
       "  'part',\n",
       "  'data',\n",
       "  'preprocessing'],\n",
       " ['natural', 'language', 'processing', 'part', 'ai'],\n",
       " ['phone', 'number'],\n",
       " ['worvec', 'used', 'word', 'embeddings'],\n",
       " ['going', 'perform', 'better', 'one', 'hotencoding', 'bow', 'tfidf']]"
      ]
     },
     "execution_count": 22,
     "metadata": {},
     "output_type": "execute_result"
    }
   ],
   "source": [
    "processed_corpus"
   ]
  },
  {
   "cell_type": "code",
   "execution_count": 23,
   "metadata": {},
   "outputs": [],
   "source": [
    "word2vec_cbow = Word2Vec(sentences=processed_corpus ,vector_size=100 , window=10,min_count=1,sg=0)\n",
    "word2vec_skipgram = Word2Vec(sentences=processed_corpus ,vector_size=100 , window=10,min_count=1,sg=1)"
   ]
  },
  {
   "cell_type": "code",
   "execution_count": 24,
   "metadata": {},
   "outputs": [
    {
     "data": {
      "text/plain": [
       "<gensim.models.word2vec.Word2Vec at 0x116397a5a00>"
      ]
     },
     "execution_count": 24,
     "metadata": {},
     "output_type": "execute_result"
    }
   ],
   "source": [
    "word2vec_cbow"
   ]
  },
  {
   "cell_type": "code",
   "execution_count": 25,
   "metadata": {},
   "outputs": [
    {
     "data": {
      "text/plain": [
       "<gensim.models.word2vec.Word2Vec at 0x116397cfaa0>"
      ]
     },
     "execution_count": 25,
     "metadata": {},
     "output_type": "execute_result"
    }
   ],
   "source": [
    "word2vec_skipgram"
   ]
  },
  {
   "cell_type": "code",
   "execution_count": 26,
   "metadata": {},
   "outputs": [
    {
     "data": {
      "text/plain": [
       "100"
      ]
     },
     "execution_count": 26,
     "metadata": {},
     "output_type": "execute_result"
    }
   ],
   "source": [
    "word2vec_skipgram.vector_size"
   ]
  },
  {
   "cell_type": "code",
   "execution_count": 27,
   "metadata": {},
   "outputs": [
    {
     "data": {
      "text/plain": [
       "array([ 7.0887972e-03, -1.5679300e-03,  7.9474989e-03, -9.4886590e-03,\n",
       "       -8.0294991e-03, -6.6403709e-03, -4.0034545e-03,  4.9892161e-03,\n",
       "       -3.8135587e-03, -8.3199050e-03,  8.4117772e-03, -3.7470020e-03,\n",
       "        8.6086961e-03, -4.8957514e-03,  3.9185942e-03,  4.9220170e-03,\n",
       "        2.3926091e-03, -2.8188038e-03,  2.8491246e-03, -8.2562361e-03,\n",
       "       -2.7655398e-03, -2.5911583e-03,  7.2490061e-03, -3.4634031e-03,\n",
       "       -6.5997029e-03,  4.3404270e-03, -4.7448516e-04, -3.5975564e-03,\n",
       "        6.8824720e-03,  3.8723124e-03, -3.9002013e-03,  7.7188847e-04,\n",
       "        9.1435025e-03,  7.7546560e-03,  6.3618720e-03,  4.6673026e-03,\n",
       "        2.3844899e-03, -1.8416261e-03, -6.3712932e-03, -3.0181051e-04,\n",
       "       -1.5653884e-03, -5.7228567e-04, -6.2628710e-03,  7.4340473e-03,\n",
       "       -6.5914928e-03, -7.2392775e-03, -2.7571463e-03, -1.5154004e-03,\n",
       "       -7.6357173e-03,  6.9824100e-04, -5.3261113e-03, -1.2755442e-03,\n",
       "       -7.3651113e-03,  1.9605684e-03,  3.2731986e-03, -2.3138524e-05,\n",
       "       -5.4483581e-03, -1.7260861e-03,  7.0849168e-03,  3.7362587e-03,\n",
       "       -8.8810492e-03, -3.4135508e-03,  2.3541022e-03,  2.1380198e-03,\n",
       "       -9.4640078e-03,  4.5711659e-03, -8.6569972e-03, -7.3870681e-03,\n",
       "        3.4831120e-03, -3.4709584e-03,  3.5644709e-03,  8.8940905e-03,\n",
       "       -3.5743224e-03,  9.3204249e-03,  1.7110384e-03,  9.8477742e-03,\n",
       "        5.7050432e-03, -9.1494834e-03, -3.3277308e-03,  6.5301750e-03,\n",
       "        5.6027793e-03,  8.7055154e-03,  6.9261026e-03,  8.0388878e-03,\n",
       "       -9.8230084e-03,  4.2988253e-03, -5.0300765e-03,  3.5123860e-03,\n",
       "        6.0566878e-03,  4.3921317e-03,  7.5123594e-03,  1.4977157e-03,\n",
       "       -1.2649416e-03,  5.7684006e-03, -5.6395675e-03,  3.8591625e-05,\n",
       "        9.4565870e-03, -5.4812501e-03,  3.8142789e-03, -8.1130210e-03],\n",
       "      dtype=float32)"
      ]
     },
     "execution_count": 27,
     "metadata": {},
     "output_type": "execute_result"
    }
   ],
   "source": [
    "word2vec_cbow.wv['nlp']"
   ]
  },
  {
   "cell_type": "code",
   "execution_count": 31,
   "metadata": {},
   "outputs": [
    {
     "data": {
      "text/plain": [
       "0.10198017"
      ]
     },
     "execution_count": 31,
     "metadata": {},
     "output_type": "execute_result"
    }
   ],
   "source": [
    "word2vec_cbow.wv.similarity(\"nlp\",'cbow')\n"
   ]
  },
  {
   "cell_type": "code",
   "execution_count": 32,
   "metadata": {},
   "outputs": [
    {
     "data": {
      "text/plain": [
       "[('fsf', 0.5980187654495239),\n",
       " ('wordvec', 0.5943545699119568),\n",
       " ('going', 0.5712200403213501)]"
      ]
     },
     "execution_count": 32,
     "metadata": {},
     "output_type": "execute_result"
    }
   ],
   "source": [
    "word2vec_cbow.wv.most_similar_cosmul('raj',topn = 3)"
   ]
  },
  {
   "cell_type": "code",
   "execution_count": 33,
   "metadata": {},
   "outputs": [
    {
     "data": {
      "text/plain": [
       "array([ 7.0887972e-03, -1.5679300e-03,  7.9474989e-03, -9.4886590e-03,\n",
       "       -8.0294991e-03, -6.6403709e-03, -4.0034545e-03,  4.9892161e-03,\n",
       "       -3.8135587e-03, -8.3199050e-03,  8.4117772e-03, -3.7470020e-03,\n",
       "        8.6086961e-03, -4.8957514e-03,  3.9185942e-03,  4.9220170e-03,\n",
       "        2.3926091e-03, -2.8188038e-03,  2.8491246e-03, -8.2562361e-03,\n",
       "       -2.7655398e-03, -2.5911583e-03,  7.2490061e-03, -3.4634031e-03,\n",
       "       -6.5997029e-03,  4.3404270e-03, -4.7448516e-04, -3.5975564e-03,\n",
       "        6.8824720e-03,  3.8723124e-03, -3.9002013e-03,  7.7188847e-04,\n",
       "        9.1435025e-03,  7.7546560e-03,  6.3618720e-03,  4.6673026e-03,\n",
       "        2.3844899e-03, -1.8416261e-03, -6.3712932e-03, -3.0181051e-04,\n",
       "       -1.5653884e-03, -5.7228567e-04, -6.2628710e-03,  7.4340473e-03,\n",
       "       -6.5914928e-03, -7.2392775e-03, -2.7571463e-03, -1.5154004e-03,\n",
       "       -7.6357173e-03,  6.9824100e-04, -5.3261113e-03, -1.2755442e-03,\n",
       "       -7.3651113e-03,  1.9605684e-03,  3.2731986e-03, -2.3138524e-05,\n",
       "       -5.4483581e-03, -1.7260861e-03,  7.0849168e-03,  3.7362587e-03,\n",
       "       -8.8810492e-03, -3.4135508e-03,  2.3541022e-03,  2.1380198e-03,\n",
       "       -9.4640078e-03,  4.5711659e-03, -8.6569972e-03, -7.3870681e-03,\n",
       "        3.4831120e-03, -3.4709584e-03,  3.5644709e-03,  8.8940905e-03,\n",
       "       -3.5743224e-03,  9.3204249e-03,  1.7110384e-03,  9.8477742e-03,\n",
       "        5.7050432e-03, -9.1494834e-03, -3.3277308e-03,  6.5301750e-03,\n",
       "        5.6027793e-03,  8.7055154e-03,  6.9261026e-03,  8.0388878e-03,\n",
       "       -9.8230084e-03,  4.2988253e-03, -5.0300765e-03,  3.5123860e-03,\n",
       "        6.0566878e-03,  4.3921317e-03,  7.5123594e-03,  1.4977157e-03,\n",
       "       -1.2649416e-03,  5.7684006e-03, -5.6395675e-03,  3.8591625e-05,\n",
       "        9.4565870e-03, -5.4812501e-03,  3.8142789e-03, -8.1130210e-03],\n",
       "      dtype=float32)"
      ]
     },
     "execution_count": 33,
     "metadata": {},
     "output_type": "execute_result"
    }
   ],
   "source": [
    "word2vec_cbow.wv['nlp']"
   ]
  },
  {
   "cell_type": "code",
   "execution_count": 34,
   "metadata": {},
   "outputs": [
    {
     "data": {
      "text/plain": [
       "-0.24784131"
      ]
     },
     "execution_count": 34,
     "metadata": {},
     "output_type": "execute_result"
    }
   ],
   "source": [
    "word2vec_cbow.wv.similarity('nlp','ai')"
   ]
  },
  {
   "cell_type": "code",
   "execution_count": 36,
   "metadata": {},
   "outputs": [
    {
     "data": {
      "text/plain": [
       "['data',\n",
       " 'wordvec',\n",
       " 'learn',\n",
       " 'part',\n",
       " 'tfidf',\n",
       " 'mfdnidfjiejk',\n",
       " 'build',\n",
       " 'try',\n",
       " 'trying',\n",
       " 'amazing',\n",
       " 'nlp',\n",
       " 'ndjikm',\n",
       " 'fifi',\n",
       " 'sskfdkgjfeijirdji',\n",
       " 'models',\n",
       " 'fsf',\n",
       " 'cloud',\n",
       " 'ops',\n",
       " 'along',\n",
       " 'science',\n",
       " 'love',\n",
       " 'dalsaniya',\n",
       " 'raj',\n",
       " 'two',\n",
       " 'cbow',\n",
       " 'bow',\n",
       " 'number',\n",
       " 'hotencoding',\n",
       " 'one',\n",
       " 'better',\n",
       " 'perform',\n",
       " 'going',\n",
       " 'embeddings',\n",
       " 'word',\n",
       " 'used',\n",
       " 'worvec',\n",
       " 'phone',\n",
       " 'skipgram',\n",
       " 'ai',\n",
       " 'processing',\n",
       " 'language',\n",
       " 'natural',\n",
       " 'preprocessing',\n",
       " 'basically',\n",
       " 'cleaning',\n",
       " 'work',\n",
       " 'also',\n",
       " 'name']"
      ]
     },
     "execution_count": 36,
     "metadata": {},
     "output_type": "execute_result"
    }
   ],
   "source": [
    "word2vec_cbow.wv.index_to_key"
   ]
  },
  {
   "cell_type": "code",
   "execution_count": 40,
   "metadata": {},
   "outputs": [
    {
     "data": {
      "text/plain": [
       "[('basically', 0.26852744817733765),\n",
       " ('worvec', 0.14284475147724152),\n",
       " ('fifi', 0.12813477218151093),\n",
       " ('ndjikm', 0.10941850394010544),\n",
       " ('try', 0.10886834561824799)]"
      ]
     },
     "execution_count": 40,
     "metadata": {},
     "output_type": "execute_result"
    }
   ],
   "source": [
    "word2vec_cbow.wv.most_similar('nlp',topn =5)"
   ]
  },
  {
   "cell_type": "code",
   "execution_count": 41,
   "metadata": {},
   "outputs": [
    {
     "data": {
      "text/plain": [
       "[('basically', 0.26862025260925293),\n",
       " ('worvec', 0.14284475147724152),\n",
       " ('fifi', 0.12813477218151093),\n",
       " ('ndjikm', 0.10941850394010544),\n",
       " ('try', 0.10902611911296844)]"
      ]
     },
     "execution_count": 41,
     "metadata": {},
     "output_type": "execute_result"
    }
   ],
   "source": [
    "word2vec_skipgram.wv.most_similar('nlp',topn=5)"
   ]
  },
  {
   "cell_type": "code",
   "execution_count": 44,
   "metadata": {},
   "outputs": [],
   "source": [
    "from sklearn.manifold import TSNE\n",
    "import numpy as np\n",
    "import matplotlib.pyplot as plt"
   ]
  },
  {
   "cell_type": "code",
   "execution_count": 54,
   "metadata": {},
   "outputs": [],
   "source": [
    "word_vector = word2vec_cbow.wv\n",
    "vocab = list(word_vector.index_to_key)"
   ]
  },
  {
   "cell_type": "code",
   "execution_count": 56,
   "metadata": {},
   "outputs": [
    {
     "data": {
      "text/plain": [
       "48"
      ]
     },
     "execution_count": 56,
     "metadata": {},
     "output_type": "execute_result"
    }
   ],
   "source": [
    "len(vocab)"
   ]
  },
  {
   "cell_type": "code",
   "execution_count": 59,
   "metadata": {},
   "outputs": [],
   "source": [
    "x = np.array([word_vector[i] for i in vocab])"
   ]
  },
  {
   "cell_type": "code",
   "execution_count": 62,
   "metadata": {},
   "outputs": [],
   "source": [
    "tsne = TSNE(n_components=2)"
   ]
  },
  {
   "cell_type": "code",
   "execution_count": 64,
   "metadata": {},
   "outputs": [],
   "source": [
    "x_new_embedding = tsne.fit_transform(x)"
   ]
  },
  {
   "cell_type": "code",
   "execution_count": 68,
   "metadata": {},
   "outputs": [
    {
     "data": {
      "image/png": "[encoded data removed]",
      "text/plain": [
       "<Figure size 5600x1600 with 1 Axes>"
      ]
     },
     "metadata": {},
     "output_type": "display_data"
    }
   ],
   "source": [
    "plt.figure(figsize=(56,16))\n",
    "plt.scatter(x_new_embedding[:,0],x_new_embedding[:,1], marker = 'o')\n",
    "plt.show()\n"
   ]
  },
  {
   "cell_type": "code",
   "execution_count": 73,
   "metadata": {},
   "outputs": [
    {
     "data": {
      "image/png": "[encoded data removed]",
      "text/plain": [
       "<Figure size 1200x600 with 1 Axes>"
      ]
     },
     "metadata": {},
     "output_type": "display_data"
    }
   ],
   "source": [
    "plt.figure(figsize=(12,6))\n",
    "plt.scatter(x_new_embedding[:,0],x_new_embedding[:,1], marker = '')\n",
    "for i,words in enumerate(vocab[:len(x_new_embedding)]):\n",
    "    plt.annotate(words,xy=(x_new_embedding[i,0],x_new_embedding[i,1]))\n",
    "plt.show()"
   ]
  },
  {
   "cell_type": "code",
   "execution_count": 74,
   "metadata": {},
   "outputs": [],
   "source": [
    "text = \"my name is raj dalsaniya, i am working with mitsubish electric. where i work with emebedded system , AI and machine learning.\""
   ]
  },
  {
   "cell_type": "code",
   "execution_count": 77,
   "metadata": {},
   "outputs": [],
   "source": [
    "token_word = word_tokenize(text)"
   ]
  },
  {
   "cell_type": "code",
   "execution_count": 81,
   "metadata": {},
   "outputs": [],
   "source": [
    "from nltk import ne_chunk\n",
    "from nltk import pos_tag"
   ]
  },
  {
   "cell_type": "code",
   "execution_count": 83,
   "metadata": {},
   "outputs": [
    {
     "name": "stdout",
     "output_type": "stream",
     "text": [
      "Collecting svgling\n",
      "  Downloading svgling-0.5.0-py3-none-any.whl.metadata (7.4 kB)\n",
      "Collecting svgwrite (from svgling)\n",
      "  Downloading svgwrite-1.4.3-py3-none-any.whl.metadata (8.8 kB)\n",
      "Downloading svgling-0.5.0-py3-none-any.whl (31 kB)\n",
      "Downloading svgwrite-1.4.3-py3-none-any.whl (67 kB)\n",
      "Installing collected packages: svgwrite, svgling\n",
      "Successfully installed svgling-0.5.0 svgwrite-1.4.3\n",
      "Note: you may need to restart the kernel to use updated packages.\n"
     ]
    }
   ],
   "source": [
    "pip install svgling"
   ]
  },
  {
   "cell_type": "code",
   "execution_count": null,
   "metadata": {},
   "outputs": [
    {
     "data": {
      "image/svg+xml": [
       "<svg baseProfile=\"full\" height=\"168px\" preserveAspectRatio=\"xMidYMid meet\" style=\"font-family: times, serif; font-weight: normal; font-style: normal; font-size: 16px\" version=\"1.1\" viewBox=\"0,0,1360.0,168.0\" width=\"1360px\" xmlns=\"http://www.w3.org/2000/svg\" xmlns:ev=\"http://www.w3.org/2001/xml-events\" xmlns:xlink=\"http://www.w3.org/1999/xlink\"><defs /><svg width=\"100%\" x=\"0\" y=\"0px\"><defs /><text text-anchor=\"middle\" x=\"50%\" y=\"16px\">S</text></svg><svg width=\"3.52941%\" x=\"0%\" y=\"48px\"><defs /><svg width=\"100%\" x=\"0\" y=\"0px\"><defs /><text text-anchor=\"middle\" x=\"50%\" y=\"16px\">my</text></svg><svg width=\"100%\" x=\"0%\" y=\"48px\"><defs /><svg width=\"100%\" x=\"0\" y=\"0px\"><defs /><text text-anchor=\"middle\" x=\"50%\" y=\"16px\">PRP$</text></svg></svg><line stroke=\"black\" x1=\"50%\" x2=\"50%\" y1=\"20px\" y2=\"48px\" /></svg><line stroke=\"black\" x1=\"50%\" x2=\"1.76471%\" y1=\"20px\" y2=\"48px\" /><svg width=\"3.52941%\" x=\"3.52941%\" y=\"48px\"><defs /><svg width=\"100%\" x=\"0\" y=\"0px\"><defs /><text text-anchor=\"middle\" x=\"50%\" y=\"16px\">name</text></svg><svg width=\"100%\" x=\"0%\" y=\"48px\"><defs /><svg width=\"100%\" x=\"0\" y=\"0px\"><defs /><text text-anchor=\"middle\" x=\"50%\" y=\"16px\">NN</text></svg></svg><line stroke=\"black\" x1=\"50%\" x2=\"50%\" y1=\"20px\" y2=\"48px\" /></svg><line stroke=\"black\" x1=\"50%\" x2=\"5.29412%\" y1=\"20px\" y2=\"48px\" /><svg width=\"2.94118%\" x=\"7.05882%\" y=\"48px\"><defs /><svg width=\"100%\" x=\"0\" y=\"0px\"><defs /><text text-anchor=\"middle\" x=\"50%\" y=\"16px\">is</text></svg><svg width=\"100%\" x=\"0%\" y=\"48px\"><defs /><svg width=\"100%\" x=\"0\" y=\"0px\"><defs /><text text-anchor=\"middle\" x=\"50%\" y=\"16px\">VBZ</text></svg></svg><line stroke=\"black\" x1=\"50%\" x2=\"50%\" y1=\"20px\" y2=\"48px\" /></svg><line stroke=\"black\" x1=\"50%\" x2=\"8.52941%\" y1=\"20px\" y2=\"48px\" /><svg width=\"2.94118%\" x=\"10%\" y=\"48px\"><defs /><svg width=\"100%\" x=\"0\" y=\"0px\"><defs /><text text-anchor=\"middle\" x=\"50%\" y=\"16px\">raj</text></svg><svg width=\"100%\" x=\"0%\" y=\"48px\"><defs /><svg width=\"100%\" x=\"0\" y=\"0px\"><defs /><text text-anchor=\"middle\" x=\"50%\" y=\"16px\">JJ</text></svg></svg><line stroke=\"black\" x1=\"50%\" x2=\"50%\" y1=\"20px\" y2=\"48px\" /></svg><line stroke=\"black\" x1=\"50%\" x2=\"11.4706%\" y1=\"20px\" y2=\"48px\" /><svg width=\"6.47059%\" x=\"12.9412%\" y=\"48px\"><defs /><svg width=\"100%\" x=\"0\" y=\"0px\"><defs /><text text-anchor=\"middle\" x=\"50%\" y=\"16px\">dalsaniya</text></svg><svg width=\"100%\" x=\"0%\" y=\"48px\"><defs /><svg width=\"100%\" x=\"0\" y=\"0px\"><defs /><text text-anchor=\"middle\" x=\"50%\" y=\"16px\">NN</text></svg></svg><line stroke=\"black\" x1=\"50%\" x2=\"50%\" y1=\"20px\" y2=\"48px\" /></svg><line stroke=\"black\" x1=\"50%\" x2=\"16.1765%\" y1=\"20px\" y2=\"48px\" /><svg width=\"1.76471%\" x=\"19.4118%\" y=\"48px\"><defs /><svg width=\"100%\" x=\"0\" y=\"0px\"><defs /><text text-anchor=\"middle\" x=\"50%\" y=\"16px\">,</text></svg><svg width=\"100%\" x=\"0%\" y=\"48px\"><defs /><svg width=\"100%\" x=\"0\" y=\"0px\"><defs /><text text-anchor=\"middle\" x=\"50%\" y=\"16px\">,</text></svg></svg><line stroke=\"black\" x1=\"50%\" x2=\"50%\" y1=\"20px\" y2=\"48px\" /></svg><line stroke=\"black\" x1=\"50%\" x2=\"20.2941%\" y1=\"20px\" y2=\"48px\" /><svg width=\"2.35294%\" x=\"21.1765%\" y=\"48px\"><defs /><svg width=\"100%\" x=\"0\" y=\"0px\"><defs /><text text-anchor=\"middle\" x=\"50%\" y=\"16px\">i</text></svg><svg width=\"100%\" x=\"0%\" y=\"48px\"><defs /><svg width=\"100%\" x=\"0\" y=\"0px\"><defs /><text text-anchor=\"middle\" x=\"50%\" y=\"16px\">NN</text></svg></svg><line stroke=\"black\" x1=\"50%\" x2=\"50%\" y1=\"20px\" y2=\"48px\" /></svg><line stroke=\"black\" x1=\"50%\" x2=\"22.3529%\" y1=\"20px\" y2=\"48px\" /><svg width=\"2.94118%\" x=\"23.5294%\" y=\"48px\"><defs /><svg width=\"100%\" x=\"0\" y=\"0px\"><defs /><text text-anchor=\"middle\" x=\"50%\" y=\"16px\">am</text></svg><svg width=\"100%\" x=\"0%\" y=\"48px\"><defs /><svg width=\"100%\" x=\"0\" y=\"0px\"><defs /><text text-anchor=\"middle\" x=\"50%\" y=\"16px\">VBP</text></svg></svg><line stroke=\"black\" x1=\"50%\" x2=\"50%\" y1=\"20px\" y2=\"48px\" /></svg><line stroke=\"black\" x1=\"50%\" x2=\"25%\" y1=\"20px\" y2=\"48px\" /><svg width=\"5.29412%\" x=\"26.4706%\" y=\"48px\"><defs /><svg width=\"100%\" x=\"0\" y=\"0px\"><defs /><text text-anchor=\"middle\" x=\"50%\" y=\"16px\">working</text></svg><svg width=\"100%\" x=\"0%\" y=\"48px\"><defs /><svg width=\"100%\" x=\"0\" y=\"0px\"><defs /><text text-anchor=\"middle\" x=\"50%\" y=\"16px\">VBG</text></svg></svg><line stroke=\"black\" x1=\"50%\" x2=\"50%\" y1=\"20px\" y2=\"48px\" /></svg><line stroke=\"black\" x1=\"50%\" x2=\"29.1176%\" y1=\"20px\" y2=\"48px\" /><svg width=\"3.52941%\" x=\"31.7647%\" y=\"48px\"><defs /><svg width=\"100%\" x=\"0\" y=\"0px\"><defs /><text text-anchor=\"middle\" x=\"50%\" y=\"16px\">with</text></svg><svg width=\"100%\" x=\"0%\" y=\"48px\"><defs /><svg width=\"100%\" x=\"0\" y=\"0px\"><defs /><text text-anchor=\"middle\" x=\"50%\" y=\"16px\">IN</text></svg></svg><line stroke=\"black\" x1=\"50%\" x2=\"50%\" y1=\"20px\" y2=\"48px\" /></svg><line stroke=\"black\" x1=\"50%\" x2=\"33.5294%\" y1=\"20px\" y2=\"48px\" /><svg width=\"6.47059%\" x=\"35.2941%\" y=\"48px\"><defs /><svg width=\"100%\" x=\"0\" y=\"0px\"><defs /><text text-anchor=\"middle\" x=\"50%\" y=\"16px\">mitsubish</text></svg><svg width=\"100%\" x=\"0%\" y=\"48px\"><defs /><svg width=\"100%\" x=\"0\" y=\"0px\"><defs /><text text-anchor=\"middle\" x=\"50%\" y=\"16px\">JJ</text></svg></svg><line stroke=\"black\" x1=\"50%\" x2=\"50%\" y1=\"20px\" y2=\"48px\" /></svg><line stroke=\"black\" x1=\"50%\" x2=\"38.5294%\" y1=\"20px\" y2=\"48px\" /><svg width=\"5.88235%\" x=\"41.7647%\" y=\"48px\"><defs /><svg width=\"100%\" x=\"0\" y=\"0px\"><defs /><text text-anchor=\"middle\" x=\"50%\" y=\"16px\">electric</text></svg><svg width=\"100%\" x=\"0%\" y=\"48px\"><defs /><svg width=\"100%\" x=\"0\" y=\"0px\"><defs /><text text-anchor=\"middle\" x=\"50%\" y=\"16px\">NN</text></svg></svg><line stroke=\"black\" x1=\"50%\" x2=\"50%\" y1=\"20px\" y2=\"48px\" /></svg><line stroke=\"black\" x1=\"50%\" x2=\"44.7059%\" y1=\"20px\" y2=\"48px\" /><svg width=\"1.76471%\" x=\"47.6471%\" y=\"48px\"><defs /><svg width=\"100%\" x=\"0\" y=\"0px\"><defs /><text text-anchor=\"middle\" x=\"50%\" y=\"16px\">.</text></svg><svg width=\"100%\" x=\"0%\" y=\"48px\"><defs /><svg width=\"100%\" x=\"0\" y=\"0px\"><defs /><text text-anchor=\"middle\" x=\"50%\" y=\"16px\">.</text></svg></svg><line stroke=\"black\" x1=\"50%\" x2=\"50%\" y1=\"20px\" y2=\"48px\" /></svg><line stroke=\"black\" x1=\"50%\" x2=\"48.5294%\" y1=\"20px\" y2=\"48px\" /><svg width=\"4.11765%\" x=\"49.4118%\" y=\"48px\"><defs /><svg width=\"100%\" x=\"0\" y=\"0px\"><defs /><text text-anchor=\"middle\" x=\"50%\" y=\"16px\">where</text></svg><svg width=\"100%\" x=\"0%\" y=\"48px\"><defs /><svg width=\"100%\" x=\"0\" y=\"0px\"><defs /><text text-anchor=\"middle\" x=\"50%\" y=\"16px\">WRB</text></svg></svg><line stroke=\"black\" x1=\"50%\" x2=\"50%\" y1=\"20px\" y2=\"48px\" /></svg><line stroke=\"black\" x1=\"50%\" x2=\"51.4706%\" y1=\"20px\" y2=\"48px\" /><svg width=\"2.35294%\" x=\"53.5294%\" y=\"48px\"><defs /><svg width=\"100%\" x=\"0\" y=\"0px\"><defs /><text text-anchor=\"middle\" x=\"50%\" y=\"16px\">i</text></svg><svg width=\"100%\" x=\"0%\" y=\"48px\"><defs /><svg width=\"100%\" x=\"0\" y=\"0px\"><defs /><text text-anchor=\"middle\" x=\"50%\" y=\"16px\">JJ</text></svg></svg><line stroke=\"black\" x1=\"50%\" x2=\"50%\" y1=\"20px\" y2=\"48px\" /></svg><line stroke=\"black\" x1=\"50%\" x2=\"54.7059%\" y1=\"20px\" y2=\"48px\" /><svg width=\"3.52941%\" x=\"55.8824%\" y=\"48px\"><defs /><svg width=\"100%\" x=\"0\" y=\"0px\"><defs /><text text-anchor=\"middle\" x=\"50%\" y=\"16px\">work</text></svg><svg width=\"100%\" x=\"0%\" y=\"48px\"><defs /><svg width=\"100%\" x=\"0\" y=\"0px\"><defs /><text text-anchor=\"middle\" x=\"50%\" y=\"16px\">NN</text></svg></svg><line stroke=\"black\" x1=\"50%\" x2=\"50%\" y1=\"20px\" y2=\"48px\" /></svg><line stroke=\"black\" x1=\"50%\" x2=\"57.6471%\" y1=\"20px\" y2=\"48px\" /><svg width=\"3.52941%\" x=\"59.4118%\" y=\"48px\"><defs /><svg width=\"100%\" x=\"0\" y=\"0px\"><defs /><text text-anchor=\"middle\" x=\"50%\" y=\"16px\">with</text></svg><svg width=\"100%\" x=\"0%\" y=\"48px\"><defs /><svg width=\"100%\" x=\"0\" y=\"0px\"><defs /><text text-anchor=\"middle\" x=\"50%\" y=\"16px\">IN</text></svg></svg><line stroke=\"black\" x1=\"50%\" x2=\"50%\" y1=\"20px\" y2=\"48px\" /></svg><line stroke=\"black\" x1=\"50%\" x2=\"61.1765%\" y1=\"20px\" y2=\"48px\" /><svg width=\"6.47059%\" x=\"62.9412%\" y=\"48px\"><defs /><svg width=\"100%\" x=\"0\" y=\"0px\"><defs /><text text-anchor=\"middle\" x=\"50%\" y=\"16px\">emebedded</text></svg><svg width=\"100%\" x=\"0%\" y=\"48px\"><defs /><svg width=\"100%\" x=\"0\" y=\"0px\"><defs /><text text-anchor=\"middle\" x=\"50%\" y=\"16px\">JJ</text></svg></svg><line stroke=\"black\" x1=\"50%\" x2=\"50%\" y1=\"20px\" y2=\"48px\" /></svg><line stroke=\"black\" x1=\"50%\" x2=\"66.1765%\" y1=\"20px\" y2=\"48px\" /><svg width=\"4.70588%\" x=\"69.4118%\" y=\"48px\"><defs /><svg width=\"100%\" x=\"0\" y=\"0px\"><defs /><text text-anchor=\"middle\" x=\"50%\" y=\"16px\">system</text></svg><svg width=\"100%\" x=\"0%\" y=\"48px\"><defs /><svg width=\"100%\" x=\"0\" y=\"0px\"><defs /><text text-anchor=\"middle\" x=\"50%\" y=\"16px\">NN</text></svg></svg><line stroke=\"black\" x1=\"50%\" x2=\"50%\" y1=\"20px\" y2=\"48px\" /></svg><line stroke=\"black\" x1=\"50%\" x2=\"71.7647%\" y1=\"20px\" y2=\"48px\" /><svg width=\"1.76471%\" x=\"74.1176%\" y=\"48px\"><defs /><svg width=\"100%\" x=\"0\" y=\"0px\"><defs /><text text-anchor=\"middle\" x=\"50%\" y=\"16px\">,</text></svg><svg width=\"100%\" x=\"0%\" y=\"48px\"><defs /><svg width=\"100%\" x=\"0\" y=\"0px\"><defs /><text text-anchor=\"middle\" x=\"50%\" y=\"16px\">,</text></svg></svg><line stroke=\"black\" x1=\"50%\" x2=\"50%\" y1=\"20px\" y2=\"48px\" /></svg><line stroke=\"black\" x1=\"50%\" x2=\"75%\" y1=\"20px\" y2=\"48px\" /><svg width=\"8.23529%\" x=\"75.8824%\" y=\"48px\"><defs /><svg width=\"100%\" x=\"0\" y=\"0px\"><defs /><text text-anchor=\"middle\" x=\"50%\" y=\"16px\">ORGANIZATION</text></svg><svg width=\"100%\" x=\"0%\" y=\"48px\"><defs /><svg width=\"100%\" x=\"0\" y=\"0px\"><defs /><text text-anchor=\"middle\" x=\"50%\" y=\"16px\">AI</text></svg><svg width=\"100%\" x=\"0%\" y=\"48px\"><defs /><svg width=\"100%\" x=\"0\" y=\"0px\"><defs /><text text-anchor=\"middle\" x=\"50%\" y=\"16px\">NNP</text></svg></svg><line stroke=\"black\" x1=\"50%\" x2=\"50%\" y1=\"20px\" y2=\"48px\" /></svg><line stroke=\"black\" x1=\"50%\" x2=\"50%\" y1=\"20px\" y2=\"48px\" /></svg><line stroke=\"black\" x1=\"50%\" x2=\"80%\" y1=\"20px\" y2=\"48px\" /><svg width=\"2.94118%\" x=\"84.1176%\" y=\"48px\"><defs /><svg width=\"100%\" x=\"0\" y=\"0px\"><defs /><text text-anchor=\"middle\" x=\"50%\" y=\"16px\">and</text></svg><svg width=\"100%\" x=\"0%\" y=\"48px\"><defs /><svg width=\"100%\" x=\"0\" y=\"0px\"><defs /><text text-anchor=\"middle\" x=\"50%\" y=\"16px\">CC</text></svg></svg><line stroke=\"black\" x1=\"50%\" x2=\"50%\" y1=\"20px\" y2=\"48px\" /></svg><line stroke=\"black\" x1=\"50%\" x2=\"85.5882%\" y1=\"20px\" y2=\"48px\" /><svg width=\"5.29412%\" x=\"87.0588%\" y=\"48px\"><defs /><svg width=\"100%\" x=\"0\" y=\"0px\"><defs /><text text-anchor=\"middle\" x=\"50%\" y=\"16px\">machine</text></svg><svg width=\"100%\" x=\"0%\" y=\"48px\"><defs /><svg width=\"100%\" x=\"0\" y=\"0px\"><defs /><text text-anchor=\"middle\" x=\"50%\" y=\"16px\">NN</text></svg></svg><line stroke=\"black\" x1=\"50%\" x2=\"50%\" y1=\"20px\" y2=\"48px\" /></svg><line stroke=\"black\" x1=\"50%\" x2=\"89.7059%\" y1=\"20px\" y2=\"48px\" /><svg width=\"5.88235%\" x=\"92.3529%\" y=\"48px\"><defs /><svg width=\"100%\" x=\"0\" y=\"0px\"><defs /><text text-anchor=\"middle\" x=\"50%\" y=\"16px\">learning</text></svg><svg width=\"100%\" x=\"0%\" y=\"48px\"><defs /><svg width=\"100%\" x=\"0\" y=\"0px\"><defs /><text text-anchor=\"middle\" x=\"50%\" y=\"16px\">NN</text></svg></svg><line stroke=\"black\" x1=\"50%\" x2=\"50%\" y1=\"20px\" y2=\"48px\" /></svg><line stroke=\"black\" x1=\"50%\" x2=\"95.2941%\" y1=\"20px\" y2=\"48px\" /><svg width=\"1.76471%\" x=\"98.2353%\" y=\"48px\"><defs /><svg width=\"100%\" x=\"0\" y=\"0px\"><defs /><text text-anchor=\"middle\" x=\"50%\" y=\"16px\">.</text></svg><svg width=\"100%\" x=\"0%\" y=\"48px\"><defs /><svg width=\"100%\" x=\"0\" y=\"0px\"><defs /><text text-anchor=\"middle\" x=\"50%\" y=\"16px\">.</text></svg></svg><line stroke=\"black\" x1=\"50%\" x2=\"50%\" y1=\"20px\" y2=\"48px\" /></svg><line stroke=\"black\" x1=\"50%\" x2=\"99.1176%\" y1=\"20px\" y2=\"48px\" /></svg>"
      ],
      "text/plain": [
       "Tree('S', [('my', 'PRP$'), ('name', 'NN'), ('is', 'VBZ'), ('raj', 'JJ'), ('dalsaniya', 'NN'), (',', ','), ('i', 'NN'), ('am', 'VBP'), ('working', 'VBG'), ('with', 'IN'), ('mitsubish', 'JJ'), ('electric', 'NN'), ('.', '.'), ('where', 'WRB'), ('i', 'JJ'), ('work', 'NN'), ('with', 'IN'), ('emebedded', 'JJ'), ('system', 'NN'), (',', ','), Tree('ORGANIZATION', [('AI', 'NNP')]), ('and', 'CC'), ('machine', 'NN'), ('learning', 'NN'), ('.', '.')])"
      ]
     },
     "execution_count": 92,
     "metadata": {},
     "output_type": "execute_result"
    }
   ],
   "source": [
    "# Apply part-of-speech tagging to the tokens\n",
    "tagged = nltk.pos_tag(token_word)\n",
    "nltk.chunk.ne_chunk(tagged)"
   ]
  }
 ],
 "metadata": {
  "kernelspec": {
   "display_name": "Python 3",
   "language": "python",
   "name": "python3"
  },
  "language_info": {
   "codemirror_mode": {
    "name": "ipython",
    "version": 3
   },
   "file_extension": ".py",
   "mimetype": "text/x-python",
   "name": "python",
   "nbconvert_exporter": "python",
   "pygments_lexer": "ipython3",
   "version": "3.12.0"
  }
 },
 "nbformat": 4,
 "nbformat_minor": 2
}
